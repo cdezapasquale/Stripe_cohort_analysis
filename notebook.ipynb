{
 "cells": [
  {
   "cell_type": "markdown",
   "metadata": {},
   "source": [
    "# This is the notebook template for analyzing your Stripe data 😉\n"
   ]
  },
  {
   "cell_type": "markdown",
   "metadata": {},
   "source": [
    "This report explores how we can do cohort analysis from our data from Stripe.\n",
    "\n",
    "If you want to run this notebook, the install instructions are kept in <a href=\"https://github.com/facundodeza/Stripe_cohort_analysis/blob/master/Readme.md\">the Readme.md.</a>\n"
   ]
  },
  {
   "cell_type": "markdown",
   "metadata": {},
   "source": [
    "## Introduction"
   ]
  },
  {
   "cell_type": "markdown",
   "metadata": {},
   "source": [
    "Stripe is a company based in San Francisco and allows its user to make and receive payments over the internet. It has other services that works as an extension, for example, \"connect\" if you want to implement Stripe on your own marketplace.\n"
   ]
  },
  {
   "cell_type": "markdown",
   "metadata": {},
   "source": [
    "## What do we do here and why?"
   ]
  },
  {
   "cell_type": "markdown",
   "metadata": {},
   "source": [
    "Here, we are performing 3 analysis.<br> \n",
    "\n",
    "a) Share in returning sales from each cohort. This will allow us to know if sales are going up or not. <br>\n",
    "\n",
    "b) Cohort retention. This will allow us to know if our customers are becoming repeating customers.  <br>\n",
    "\n",
    "c) LTV for each customer. This will allow us to know how much our customers worth and therefore, how much we can afford to acquire them.<br>"
   ]
  },
  {
   "cell_type": "markdown",
   "metadata": {},
   "source": [
    "## Lets check if the libraries we want are installed correctly"
   ]
  },
  {
   "cell_type": "code",
   "execution_count": 1,
   "metadata": {},
   "outputs": [
    {
     "name": "stdout",
     "output_type": "stream",
     "text": [
      "1.18.1\n",
      "3.1.3\n"
     ]
    }
   ],
   "source": [
    "import os \n",
    "import numpy as np\n",
    "import stripe \n",
    "import pandas as pd\n",
    "from pandas.io.json import json_normalize \n",
    "from lifetimes import GammaGammaFitter\n",
    "from lifetimes import BetaGeoFitter\n",
    "import matplotlib\n",
    "import math\n",
    "import matplotlib.pyplot as plt\n",
    "from datetime import datetime, timedelta\n",
    "import random\n",
    "import seaborn as sns\n",
    "import matplotlib.colors as mcolors\n",
    "\n",
    "\n",
    "\n",
    "\n",
    "print(np.__version__)\n",
    "print(matplotlib.__version__)"
   ]
  },
  {
   "cell_type": "markdown",
   "metadata": {},
   "source": [
    "Let's also make matplotlib render plots in 4k"
   ]
  },
  {
   "cell_type": "markdown",
   "metadata": {},
   "source": [
    "## Let’s connect to our Stripe Account \n",
    "\n"
   ]
  },
  {
   "cell_type": "markdown",
   "metadata": {},
   "source": [
    "First, you need a Stripe account and then, your secret key. You can get the secret key from \n",
    "<a href=\"https://dashboard.stripe.com/apikeys\">the developer dashboard.</a> \n",
    "\n",
    "Remember that your secret key starts with \"sk_live...\" \n",
    "\n",
    "\n",
    "\n"
   ]
  },
  {
   "cell_type": "code",
   "execution_count": 2,
   "metadata": {},
   "outputs": [],
   "source": [
    "api_key=\"your_secret_api_key_here\"\n"
   ]
  },
  {
   "cell_type": "markdown",
   "metadata": {},
   "source": [
    "For retrieving our data we use the \"charges\" endpoint of Stripe. This API allows retrieving 100 transactions top for each API call. Therefore, we are creating a function that retrieves all the data that we have automatically."
   ]
  },
  {
   "cell_type": "code",
   "execution_count": 3,
   "metadata": {},
   "outputs": [],
   "source": [
    "\n",
    "def complete_data(api_key, limit=100):\n",
    "    \n",
    "    #We call the API\n",
    "    stripe.api_key = api_key\n",
    "\n",
    "    \n",
    "    temp=stripe.Charge.list(limit=limit)\n",
    "    \n",
    "    #We convert the response in a dataframe\n",
    "    df = json_normalize(temp['data'])\n",
    "\n",
    "    \n",
    "    while len(temp) == limit: \n",
    "        df=df.reset_index(drop = True) \n",
    "\n",
    "        temp=stripe.Charge.list(limit=limit, starting_after=df['id'][df.shape[0]-1])\n",
    "        df=pd.concat([df, json_normalize(temp['data'])], axis=0)\n",
    "                    \n",
    "    return df\n"
   ]
  },
  {
   "cell_type": "markdown",
   "metadata": {},
   "source": [
    "Now, we have our function and secret key to retrieve our data and we take a look at the columns that we already have."
   ]
  },
  {
   "cell_type": "code",
   "execution_count": 4,
   "metadata": {},
   "outputs": [],
   "source": [
    "my_data= complete_data(api_key)"
   ]
  },
  {
   "cell_type": "code",
   "execution_count": 5,
   "metadata": {},
   "outputs": [
    {
     "data": {
      "text/plain": [
       "Index(['id', 'object', 'amount', 'amount_refunded', 'application',\n",
       "       'application_fee', 'application_fee_amount', 'balance_transaction',\n",
       "       'calculated_statement_descriptor', 'captured', 'created', 'currency',\n",
       "       'customer', 'description', 'destination', 'dispute', 'disputed',\n",
       "       'failure_code', 'failure_message', 'invoice', 'livemode',\n",
       "       'on_behalf_of', 'order', 'outcome', 'paid', 'payment_intent',\n",
       "       'payment_method', 'receipt_email', 'receipt_number', 'receipt_url',\n",
       "       'refunded', 'review', 'shipping', 'source_transfer',\n",
       "       'statement_descriptor', 'statement_descriptor_suffix', 'status',\n",
       "       'transfer_data', 'transfer_group', 'billing_details.address.city',\n",
       "       'billing_details.address.country', 'billing_details.address.line1',\n",
       "       'billing_details.address.line2', 'billing_details.address.postal_code',\n",
       "       'billing_details.address.state', 'billing_details.email',\n",
       "       'billing_details.name', 'billing_details.phone',\n",
       "       'payment_method_details.type', 'refunds.object', 'refunds.data',\n",
       "       'refunds.has_more', 'refunds.total_count', 'refunds.url', 'source.id',\n",
       "       'source.object', 'source.application_icon', 'source.application_logo',\n",
       "       'source.application_name', 'source.application_url'],\n",
       "      dtype='object')"
      ]
     },
     "execution_count": 5,
     "metadata": {},
     "output_type": "execute_result"
    }
   ],
   "source": [
    "my_data.columns"
   ]
  },
  {
   "cell_type": "markdown",
   "metadata": {},
   "source": [
    "## Some pre-processing"
   ]
  },
  {
   "cell_type": "markdown",
   "metadata": {},
   "source": [
    "In this section, we do some pre-processing steps that we need for our analysis.  <br>\n",
    "\n",
    "We start keeping only the variables that we need.  <br>\n",
    "\n",
    "We need \"amount\" and \"amount_refunded\" for getting a \"net_amount\" for transaction.  <br>\n",
    "\n",
    "We need \"created\" because is the date for each transaction and we use it for obtaining the cohort which customer belongs with formula \"year-month\". Also, this variable allows us to track if a customer has bought again or not. <br>\n",
    "\n",
    "The last variable \"customer\" allows us to distinguish each customer individually. \n"
   ]
  },
  {
   "cell_type": "code",
   "execution_count": 6,
   "metadata": {},
   "outputs": [],
   "source": [
    "my_data=my_data[['amount', 'amount_refunded', 'created', 'customer']]"
   ]
  },
  {
   "cell_type": "markdown",
   "metadata": {},
   "source": [
    "It is important to notice that amount and amount_refunded are in cents and for that reason, we are dividing per 100. <br>\n",
    "\n",
    "In the other hand, we want to have the net amount for each transaction, so we are creating such attribute. "
   ]
  },
  {
   "cell_type": "code",
   "execution_count": 7,
   "metadata": {},
   "outputs": [],
   "source": [
    "my_data['net_amount']=(my_data['amount']-my_data['amount_refunded'])/100 "
   ]
  },
  {
   "cell_type": "markdown",
   "metadata": {},
   "source": [
    "Also, the date is a timestamp format. We convert them into a date format."
   ]
  },
  {
   "cell_type": "code",
   "execution_count": 8,
   "metadata": {},
   "outputs": [],
   "source": [
    "my_data['created']=my_data['created'].apply(datetime.fromtimestamp)\n",
    "\n",
    "\n",
    "my_data['created']=my_data['created'].dt.date\n"
   ]
  },
  {
   "cell_type": "markdown",
   "metadata": {},
   "source": [
    "We decide to keep only net_amount, customer and created for simplifying our dataset."
   ]
  },
  {
   "cell_type": "code",
   "execution_count": 41,
   "metadata": {},
   "outputs": [
    {
     "data": {
      "text/html": [
       "<div>\n",
       "<style scoped>\n",
       "    .dataframe tbody tr th:only-of-type {\n",
       "        vertical-align: middle;\n",
       "    }\n",
       "\n",
       "    .dataframe tbody tr th {\n",
       "        vertical-align: top;\n",
       "    }\n",
       "\n",
       "    .dataframe thead th {\n",
       "        text-align: right;\n",
       "    }\n",
       "</style>\n",
       "<table border=\"1\" class=\"dataframe\">\n",
       "  <thead>\n",
       "    <tr style=\"text-align: right;\">\n",
       "      <th></th>\n",
       "      <th>net_amount</th>\n",
       "      <th>customer</th>\n",
       "      <th>created</th>\n",
       "    </tr>\n",
       "  </thead>\n",
       "  <tbody>\n",
       "    <tr>\n",
       "      <th>0</th>\n",
       "      <td>0.57</td>\n",
       "      <td>0</td>\n",
       "      <td>2015-01-15</td>\n",
       "    </tr>\n",
       "    <tr>\n",
       "      <th>1</th>\n",
       "      <td>12.59</td>\n",
       "      <td>0</td>\n",
       "      <td>2015-06-23</td>\n",
       "    </tr>\n",
       "    <tr>\n",
       "      <th>2</th>\n",
       "      <td>20.36</td>\n",
       "      <td>0</td>\n",
       "      <td>2015-07-10</td>\n",
       "    </tr>\n",
       "    <tr>\n",
       "      <th>3</th>\n",
       "      <td>12.09</td>\n",
       "      <td>0</td>\n",
       "      <td>2015-09-11</td>\n",
       "    </tr>\n",
       "    <tr>\n",
       "      <th>4</th>\n",
       "      <td>24.87</td>\n",
       "      <td>1</td>\n",
       "      <td>2015-08-27</td>\n",
       "    </tr>\n",
       "  </tbody>\n",
       "</table>\n",
       "</div>"
      ],
      "text/plain": [
       "   net_amount  customer    created\n",
       "0        0.57         0 2015-01-15\n",
       "1       12.59         0 2015-06-23\n",
       "2       20.36         0 2015-07-10\n",
       "3       12.09         0 2015-09-11\n",
       "4       24.87         1 2015-08-27"
      ]
     },
     "execution_count": 41,
     "metadata": {},
     "output_type": "execute_result"
    }
   ],
   "source": [
    "my_data=my_data[['net_amount','customer','created']]\n",
    "\n",
    "my_data.head()"
   ]
  },
  {
   "cell_type": "markdown",
   "metadata": {},
   "source": [
    "To know the cohort which each customer belongs to, we need to get the first purchase for each client."
   ]
  },
  {
   "cell_type": "code",
   "execution_count": 10,
   "metadata": {},
   "outputs": [
    {
     "data": {
      "text/html": [
       "<div>\n",
       "<style scoped>\n",
       "    .dataframe tbody tr th:only-of-type {\n",
       "        vertical-align: middle;\n",
       "    }\n",
       "\n",
       "    .dataframe tbody tr th {\n",
       "        vertical-align: top;\n",
       "    }\n",
       "\n",
       "    .dataframe thead th {\n",
       "        text-align: right;\n",
       "    }\n",
       "</style>\n",
       "<table border=\"1\" class=\"dataframe\">\n",
       "  <thead>\n",
       "    <tr style=\"text-align: right;\">\n",
       "      <th></th>\n",
       "      <th>customer</th>\n",
       "      <th>first_purchase</th>\n",
       "    </tr>\n",
       "  </thead>\n",
       "  <tbody>\n",
       "    <tr>\n",
       "      <th>0</th>\n",
       "      <td>0</td>\n",
       "      <td>2015-01-15</td>\n",
       "    </tr>\n",
       "    <tr>\n",
       "      <th>1</th>\n",
       "      <td>1</td>\n",
       "      <td>2015-08-27</td>\n",
       "    </tr>\n",
       "    <tr>\n",
       "      <th>2</th>\n",
       "      <td>2</td>\n",
       "      <td>2015-02-05</td>\n",
       "    </tr>\n",
       "    <tr>\n",
       "      <th>3</th>\n",
       "      <td>3</td>\n",
       "      <td>2015-01-01</td>\n",
       "    </tr>\n",
       "    <tr>\n",
       "      <th>4</th>\n",
       "      <td>4</td>\n",
       "      <td>2015-02-06</td>\n",
       "    </tr>\n",
       "  </tbody>\n",
       "</table>\n",
       "</div>"
      ],
      "text/plain": [
       "   customer first_purchase\n",
       "0         0     2015-01-15\n",
       "1         1     2015-08-27\n",
       "2         2     2015-02-05\n",
       "3         3     2015-01-01\n",
       "4         4     2015-02-06"
      ]
     },
     "execution_count": 10,
     "metadata": {},
     "output_type": "execute_result"
    }
   ],
   "source": [
    "first_purchase=pd.DataFrame(my_data.groupby(['customer'])['created'].min()).reset_index()\n",
    "\n",
    "first_purchase.columns =['customer', 'first_purchase'] \n",
    "\n",
    "first_purchase.head()"
   ]
  },
  {
   "cell_type": "markdown",
   "metadata": {},
   "source": [
    "Now we merge the first purchase with our original data."
   ]
  },
  {
   "cell_type": "code",
   "execution_count": 11,
   "metadata": {},
   "outputs": [],
   "source": [
    "my_data=my_data.merge(first_purchase, how='left',  on='customer')"
   ]
  },
  {
   "cell_type": "code",
   "execution_count": 12,
   "metadata": {},
   "outputs": [
    {
     "data": {
      "text/html": [
       "<div>\n",
       "<style scoped>\n",
       "    .dataframe tbody tr th:only-of-type {\n",
       "        vertical-align: middle;\n",
       "    }\n",
       "\n",
       "    .dataframe tbody tr th {\n",
       "        vertical-align: top;\n",
       "    }\n",
       "\n",
       "    .dataframe thead th {\n",
       "        text-align: right;\n",
       "    }\n",
       "</style>\n",
       "<table border=\"1\" class=\"dataframe\">\n",
       "  <thead>\n",
       "    <tr style=\"text-align: right;\">\n",
       "      <th></th>\n",
       "      <th>net_amount</th>\n",
       "      <th>customer</th>\n",
       "      <th>created</th>\n",
       "      <th>first_purchase</th>\n",
       "    </tr>\n",
       "  </thead>\n",
       "  <tbody>\n",
       "    <tr>\n",
       "      <th>0</th>\n",
       "      <td>57.37</td>\n",
       "      <td>5634</td>\n",
       "      <td>2015-11-21</td>\n",
       "      <td>2015-03-11</td>\n",
       "    </tr>\n",
       "    <tr>\n",
       "      <th>1</th>\n",
       "      <td>2.40</td>\n",
       "      <td>3906</td>\n",
       "      <td>2015-10-02</td>\n",
       "      <td>2015-10-02</td>\n",
       "    </tr>\n",
       "    <tr>\n",
       "      <th>2</th>\n",
       "      <td>70.30</td>\n",
       "      <td>8073</td>\n",
       "      <td>2015-08-13</td>\n",
       "      <td>2015-04-01</td>\n",
       "    </tr>\n",
       "    <tr>\n",
       "      <th>3</th>\n",
       "      <td>1.65</td>\n",
       "      <td>5297</td>\n",
       "      <td>2015-06-25</td>\n",
       "      <td>2015-01-06</td>\n",
       "    </tr>\n",
       "    <tr>\n",
       "      <th>4</th>\n",
       "      <td>32.08</td>\n",
       "      <td>2607</td>\n",
       "      <td>2015-06-19</td>\n",
       "      <td>2015-02-20</td>\n",
       "    </tr>\n",
       "  </tbody>\n",
       "</table>\n",
       "</div>"
      ],
      "text/plain": [
       "   net_amount  customer     created first_purchase\n",
       "0       57.37      5634  2015-11-21     2015-03-11\n",
       "1        2.40      3906  2015-10-02     2015-10-02\n",
       "2       70.30      8073  2015-08-13     2015-04-01\n",
       "3        1.65      5297  2015-06-25     2015-01-06\n",
       "4       32.08      2607  2015-06-19     2015-02-20"
      ]
     },
     "execution_count": 12,
     "metadata": {},
     "output_type": "execute_result"
    }
   ],
   "source": [
    "my_data.head()"
   ]
  },
  {
   "cell_type": "markdown",
   "metadata": {},
   "source": [
    "We create a new column named \"cohort\". The cohort follows the formula \"Year-month\". It means if the cohort is 2015-01 is because this given customer has made his first purchase in January 2015."
   ]
  },
  {
   "cell_type": "code",
   "execution_count": 13,
   "metadata": {},
   "outputs": [],
   "source": [
    "my_data['cohort']=pd.to_datetime(my_data['first_purchase']).map(lambda x: x.strftime('%Y-%m'))"
   ]
  },
  {
   "cell_type": "markdown",
   "metadata": {},
   "source": [
    "For each transaction, we simplify its date to a \"Year-month\" format."
   ]
  },
  {
   "cell_type": "code",
   "execution_count": 14,
   "metadata": {},
   "outputs": [],
   "source": [
    "my_data['monthly']=pd.to_datetime(my_data['created']).map(lambda x: x.strftime('%Y-%m'))\n"
   ]
  },
  {
   "cell_type": "markdown",
   "metadata": {},
   "source": [
    "We estimate the period for each transaction and for each client. The period considers frames of 30 days between each transaction and the first purchase for a given customer<br>\n",
    "\n",
    "For example, if a customer has bought for the first time 2015-01-01 and then he buys again 2015-01-25, the second purchase belongs to period 1. It means it was made within the next 30 days of his first purchase.<br>\n",
    "\n",
    "Now, if the same client buys again 2015-02-15, this transaction belongs to period 2 because it was made between 30 and 60 days after the first purchase. <br>\n",
    "\n",
    "The same idea is applied for each customer and each of his transactions."
   ]
  },
  {
   "cell_type": "code",
   "execution_count": 15,
   "metadata": {},
   "outputs": [
    {
     "data": {
      "text/html": [
       "<div>\n",
       "<style scoped>\n",
       "    .dataframe tbody tr th:only-of-type {\n",
       "        vertical-align: middle;\n",
       "    }\n",
       "\n",
       "    .dataframe tbody tr th {\n",
       "        vertical-align: top;\n",
       "    }\n",
       "\n",
       "    .dataframe thead th {\n",
       "        text-align: right;\n",
       "    }\n",
       "</style>\n",
       "<table border=\"1\" class=\"dataframe\">\n",
       "  <thead>\n",
       "    <tr style=\"text-align: right;\">\n",
       "      <th></th>\n",
       "      <th>net_amount</th>\n",
       "      <th>customer</th>\n",
       "      <th>created</th>\n",
       "      <th>first_purchase</th>\n",
       "      <th>cohort</th>\n",
       "      <th>monthly</th>\n",
       "      <th>period</th>\n",
       "    </tr>\n",
       "  </thead>\n",
       "  <tbody>\n",
       "    <tr>\n",
       "      <th>0</th>\n",
       "      <td>57.37</td>\n",
       "      <td>5634</td>\n",
       "      <td>2015-11-21</td>\n",
       "      <td>2015-03-11</td>\n",
       "      <td>2015-03</td>\n",
       "      <td>2015-11</td>\n",
       "      <td>9.0</td>\n",
       "    </tr>\n",
       "    <tr>\n",
       "      <th>1</th>\n",
       "      <td>2.40</td>\n",
       "      <td>3906</td>\n",
       "      <td>2015-10-02</td>\n",
       "      <td>2015-10-02</td>\n",
       "      <td>2015-10</td>\n",
       "      <td>2015-10</td>\n",
       "      <td>0.0</td>\n",
       "    </tr>\n",
       "    <tr>\n",
       "      <th>2</th>\n",
       "      <td>70.30</td>\n",
       "      <td>8073</td>\n",
       "      <td>2015-08-13</td>\n",
       "      <td>2015-04-01</td>\n",
       "      <td>2015-04</td>\n",
       "      <td>2015-08</td>\n",
       "      <td>5.0</td>\n",
       "    </tr>\n",
       "    <tr>\n",
       "      <th>3</th>\n",
       "      <td>1.65</td>\n",
       "      <td>5297</td>\n",
       "      <td>2015-06-25</td>\n",
       "      <td>2015-01-06</td>\n",
       "      <td>2015-01</td>\n",
       "      <td>2015-06</td>\n",
       "      <td>6.0</td>\n",
       "    </tr>\n",
       "    <tr>\n",
       "      <th>4</th>\n",
       "      <td>32.08</td>\n",
       "      <td>2607</td>\n",
       "      <td>2015-06-19</td>\n",
       "      <td>2015-02-20</td>\n",
       "      <td>2015-02</td>\n",
       "      <td>2015-06</td>\n",
       "      <td>4.0</td>\n",
       "    </tr>\n",
       "  </tbody>\n",
       "</table>\n",
       "</div>"
      ],
      "text/plain": [
       "   net_amount  customer    created first_purchase   cohort  monthly  period\n",
       "0       57.37      5634 2015-11-21     2015-03-11  2015-03  2015-11     9.0\n",
       "1        2.40      3906 2015-10-02     2015-10-02  2015-10  2015-10     0.0\n",
       "2       70.30      8073 2015-08-13     2015-04-01  2015-04  2015-08     5.0\n",
       "3        1.65      5297 2015-06-25     2015-01-06  2015-01  2015-06     6.0\n",
       "4       32.08      2607 2015-06-19     2015-02-20  2015-02  2015-06     4.0"
      ]
     },
     "execution_count": 15,
     "metadata": {},
     "output_type": "execute_result"
    }
   ],
   "source": [
    "my_data['created']=pd.to_datetime(my_data['created'])\n",
    "my_data['first_purchase']=pd.to_datetime(my_data['first_purchase'])\n",
    "\n",
    "my_data['period']= np.ceil(((my_data['created']-my_data['first_purchase']).dt.days)/30)\n",
    "\n",
    "my_data.head()"
   ]
  },
  {
   "cell_type": "markdown",
   "metadata": {},
   "source": [
    "## Shares of returning sales from each cohort\n",
    "The goal here is to determine if the sales for each cohort is growing or not. <br>\n",
    "\n",
    "For example, if one cohort at the time 0 has sold USD 100 and then, at time 4 has sold USD 110, we would 110% in the chart and it is good news because the sales have increased 10% in comparison with moment 0. <br>\n",
    "\n",
    "If this value is 25%, it means that we only sold 25% in comparison of total sales at moment 0. \n"
   ]
  },
  {
   "cell_type": "markdown",
   "metadata": {},
   "source": [
    "We start calculating the total net sales per cohort and period."
   ]
  },
  {
   "cell_type": "code",
   "execution_count": 16,
   "metadata": {},
   "outputs": [
    {
     "data": {
      "text/html": [
       "<div>\n",
       "<style scoped>\n",
       "    .dataframe tbody tr th:only-of-type {\n",
       "        vertical-align: middle;\n",
       "    }\n",
       "\n",
       "    .dataframe tbody tr th {\n",
       "        vertical-align: top;\n",
       "    }\n",
       "\n",
       "    .dataframe thead th {\n",
       "        text-align: right;\n",
       "    }\n",
       "</style>\n",
       "<table border=\"1\" class=\"dataframe\">\n",
       "  <thead>\n",
       "    <tr style=\"text-align: right;\">\n",
       "      <th></th>\n",
       "      <th>cohort</th>\n",
       "      <th>period</th>\n",
       "      <th>net_amount</th>\n",
       "    </tr>\n",
       "  </thead>\n",
       "  <tbody>\n",
       "    <tr>\n",
       "      <th>0</th>\n",
       "      <td>2015-01</td>\n",
       "      <td>0.0</td>\n",
       "      <td>58032.31</td>\n",
       "    </tr>\n",
       "    <tr>\n",
       "      <th>1</th>\n",
       "      <td>2015-01</td>\n",
       "      <td>1.0</td>\n",
       "      <td>14314.28</td>\n",
       "    </tr>\n",
       "    <tr>\n",
       "      <th>2</th>\n",
       "      <td>2015-01</td>\n",
       "      <td>2.0</td>\n",
       "      <td>13832.08</td>\n",
       "    </tr>\n",
       "    <tr>\n",
       "      <th>3</th>\n",
       "      <td>2015-01</td>\n",
       "      <td>3.0</td>\n",
       "      <td>13634.57</td>\n",
       "    </tr>\n",
       "    <tr>\n",
       "      <th>4</th>\n",
       "      <td>2015-01</td>\n",
       "      <td>4.0</td>\n",
       "      <td>12036.50</td>\n",
       "    </tr>\n",
       "  </tbody>\n",
       "</table>\n",
       "</div>"
      ],
      "text/plain": [
       "    cohort  period  net_amount\n",
       "0  2015-01     0.0    58032.31\n",
       "1  2015-01     1.0    14314.28\n",
       "2  2015-01     2.0    13832.08\n",
       "3  2015-01     3.0    13634.57\n",
       "4  2015-01     4.0    12036.50"
      ]
     },
     "execution_count": 16,
     "metadata": {},
     "output_type": "execute_result"
    }
   ],
   "source": [
    "sales=pd.DataFrame(my_data.groupby(['cohort', 'period'])['net_amount'].sum()).reset_index() \n",
    "\n",
    "sales.head()\n"
   ]
  },
  {
   "cell_type": "markdown",
   "metadata": {},
   "source": [
    "Then, we create a pivot table where each row is a cohort, each column is a period and the values of each cells are the total sales for that cohort and period."
   ]
  },
  {
   "cell_type": "code",
   "execution_count": 17,
   "metadata": {},
   "outputs": [
    {
     "data": {
      "text/html": [
       "<div>\n",
       "<style scoped>\n",
       "    .dataframe tbody tr th:only-of-type {\n",
       "        vertical-align: middle;\n",
       "    }\n",
       "\n",
       "    .dataframe tbody tr th {\n",
       "        vertical-align: top;\n",
       "    }\n",
       "\n",
       "    .dataframe thead th {\n",
       "        text-align: right;\n",
       "    }\n",
       "</style>\n",
       "<table border=\"1\" class=\"dataframe\">\n",
       "  <thead>\n",
       "    <tr style=\"text-align: right;\">\n",
       "      <th>period</th>\n",
       "      <th>0.0</th>\n",
       "      <th>1.0</th>\n",
       "      <th>2.0</th>\n",
       "      <th>3.0</th>\n",
       "      <th>4.0</th>\n",
       "      <th>5.0</th>\n",
       "      <th>6.0</th>\n",
       "      <th>7.0</th>\n",
       "      <th>8.0</th>\n",
       "      <th>9.0</th>\n",
       "      <th>10.0</th>\n",
       "      <th>11.0</th>\n",
       "      <th>12.0</th>\n",
       "    </tr>\n",
       "    <tr>\n",
       "      <th>cohort</th>\n",
       "      <th></th>\n",
       "      <th></th>\n",
       "      <th></th>\n",
       "      <th></th>\n",
       "      <th></th>\n",
       "      <th></th>\n",
       "      <th></th>\n",
       "      <th></th>\n",
       "      <th></th>\n",
       "      <th></th>\n",
       "      <th></th>\n",
       "      <th></th>\n",
       "      <th></th>\n",
       "    </tr>\n",
       "  </thead>\n",
       "  <tbody>\n",
       "    <tr>\n",
       "      <th>2015-01</th>\n",
       "      <td>58032.31</td>\n",
       "      <td>14314.28</td>\n",
       "      <td>13832.08</td>\n",
       "      <td>13634.57</td>\n",
       "      <td>12036.50</td>\n",
       "      <td>13077.71</td>\n",
       "      <td>13619.39</td>\n",
       "      <td>14292.34</td>\n",
       "      <td>13043.98</td>\n",
       "      <td>14699.29</td>\n",
       "      <td>13341.66</td>\n",
       "      <td>14357.21</td>\n",
       "      <td>7124.33</td>\n",
       "    </tr>\n",
       "    <tr>\n",
       "      <th>2015-02</th>\n",
       "      <td>40388.06</td>\n",
       "      <td>10299.45</td>\n",
       "      <td>10371.23</td>\n",
       "      <td>10543.55</td>\n",
       "      <td>9954.09</td>\n",
       "      <td>10949.96</td>\n",
       "      <td>9940.52</td>\n",
       "      <td>10967.47</td>\n",
       "      <td>10895.82</td>\n",
       "      <td>10753.89</td>\n",
       "      <td>10391.18</td>\n",
       "      <td>6145.31</td>\n",
       "      <td>NaN</td>\n",
       "    </tr>\n",
       "    <tr>\n",
       "      <th>2015-03</th>\n",
       "      <td>34808.66</td>\n",
       "      <td>7444.40</td>\n",
       "      <td>9812.08</td>\n",
       "      <td>8376.02</td>\n",
       "      <td>9612.37</td>\n",
       "      <td>9059.66</td>\n",
       "      <td>8849.71</td>\n",
       "      <td>8955.62</td>\n",
       "      <td>9433.74</td>\n",
       "      <td>8100.43</td>\n",
       "      <td>5390.07</td>\n",
       "      <td>NaN</td>\n",
       "      <td>NaN</td>\n",
       "    </tr>\n",
       "    <tr>\n",
       "      <th>2015-04</th>\n",
       "      <td>26476.09</td>\n",
       "      <td>6264.45</td>\n",
       "      <td>5554.57</td>\n",
       "      <td>6004.86</td>\n",
       "      <td>6234.14</td>\n",
       "      <td>6248.01</td>\n",
       "      <td>6618.88</td>\n",
       "      <td>6741.28</td>\n",
       "      <td>5773.17</td>\n",
       "      <td>4157.21</td>\n",
       "      <td>NaN</td>\n",
       "      <td>NaN</td>\n",
       "      <td>NaN</td>\n",
       "    </tr>\n",
       "    <tr>\n",
       "      <th>2015-05</th>\n",
       "      <td>20591.80</td>\n",
       "      <td>5018.88</td>\n",
       "      <td>5290.65</td>\n",
       "      <td>4875.00</td>\n",
       "      <td>5642.78</td>\n",
       "      <td>5414.14</td>\n",
       "      <td>4766.20</td>\n",
       "      <td>4951.72</td>\n",
       "      <td>2612.91</td>\n",
       "      <td>NaN</td>\n",
       "      <td>NaN</td>\n",
       "      <td>NaN</td>\n",
       "      <td>NaN</td>\n",
       "    </tr>\n",
       "  </tbody>\n",
       "</table>\n",
       "</div>"
      ],
      "text/plain": [
       "period       0.0       1.0       2.0       3.0       4.0       5.0       6.0   \\\n",
       "cohort                                                                          \n",
       "2015-01  58032.31  14314.28  13832.08  13634.57  12036.50  13077.71  13619.39   \n",
       "2015-02  40388.06  10299.45  10371.23  10543.55   9954.09  10949.96   9940.52   \n",
       "2015-03  34808.66   7444.40   9812.08   8376.02   9612.37   9059.66   8849.71   \n",
       "2015-04  26476.09   6264.45   5554.57   6004.86   6234.14   6248.01   6618.88   \n",
       "2015-05  20591.80   5018.88   5290.65   4875.00   5642.78   5414.14   4766.20   \n",
       "\n",
       "period       7.0       8.0       9.0       10.0      11.0     12.0  \n",
       "cohort                                                              \n",
       "2015-01  14292.34  13043.98  14699.29  13341.66  14357.21  7124.33  \n",
       "2015-02  10967.47  10895.82  10753.89  10391.18   6145.31      NaN  \n",
       "2015-03   8955.62   9433.74   8100.43   5390.07       NaN      NaN  \n",
       "2015-04   6741.28   5773.17   4157.21       NaN       NaN      NaN  \n",
       "2015-05   4951.72   2612.91       NaN       NaN       NaN      NaN  "
      ]
     },
     "execution_count": 17,
     "metadata": {},
     "output_type": "execute_result"
    }
   ],
   "source": [
    "sales_monthly = sales.pivot_table(index = 'cohort',\n",
    "                                     columns = 'period',\n",
    "                                     values = 'net_amount')\n",
    "\n",
    "sales_monthly.head()"
   ]
  },
  {
   "cell_type": "markdown",
   "metadata": {},
   "source": [
    "Then, we divide them for the total sales at moment 0 and we get which percentage they represent in comparison with total sales at moment 0 of its respective cohort."
   ]
  },
  {
   "cell_type": "code",
   "execution_count": 18,
   "metadata": {},
   "outputs": [
    {
     "data": {
      "text/html": [
       "<div>\n",
       "<style scoped>\n",
       "    .dataframe tbody tr th:only-of-type {\n",
       "        vertical-align: middle;\n",
       "    }\n",
       "\n",
       "    .dataframe tbody tr th {\n",
       "        vertical-align: top;\n",
       "    }\n",
       "\n",
       "    .dataframe thead th {\n",
       "        text-align: right;\n",
       "    }\n",
       "</style>\n",
       "<table border=\"1\" class=\"dataframe\">\n",
       "  <thead>\n",
       "    <tr style=\"text-align: right;\">\n",
       "      <th>period</th>\n",
       "      <th>0.0</th>\n",
       "      <th>1.0</th>\n",
       "      <th>2.0</th>\n",
       "      <th>3.0</th>\n",
       "      <th>4.0</th>\n",
       "      <th>5.0</th>\n",
       "      <th>6.0</th>\n",
       "      <th>7.0</th>\n",
       "      <th>8.0</th>\n",
       "      <th>9.0</th>\n",
       "      <th>10.0</th>\n",
       "      <th>11.0</th>\n",
       "      <th>12.0</th>\n",
       "    </tr>\n",
       "    <tr>\n",
       "      <th>cohort</th>\n",
       "      <th></th>\n",
       "      <th></th>\n",
       "      <th></th>\n",
       "      <th></th>\n",
       "      <th></th>\n",
       "      <th></th>\n",
       "      <th></th>\n",
       "      <th></th>\n",
       "      <th></th>\n",
       "      <th></th>\n",
       "      <th></th>\n",
       "      <th></th>\n",
       "      <th></th>\n",
       "    </tr>\n",
       "  </thead>\n",
       "  <tbody>\n",
       "    <tr>\n",
       "      <th>2015-01</th>\n",
       "      <td>1.0</td>\n",
       "      <td>0.246661</td>\n",
       "      <td>0.238351</td>\n",
       "      <td>0.234948</td>\n",
       "      <td>0.207410</td>\n",
       "      <td>0.225352</td>\n",
       "      <td>0.234686</td>\n",
       "      <td>0.246282</td>\n",
       "      <td>0.224771</td>\n",
       "      <td>0.253295</td>\n",
       "      <td>0.229901</td>\n",
       "      <td>0.247400</td>\n",
       "      <td>0.122765</td>\n",
       "    </tr>\n",
       "    <tr>\n",
       "      <th>2015-02</th>\n",
       "      <td>1.0</td>\n",
       "      <td>0.255012</td>\n",
       "      <td>0.256790</td>\n",
       "      <td>0.261056</td>\n",
       "      <td>0.246461</td>\n",
       "      <td>0.271119</td>\n",
       "      <td>0.246125</td>\n",
       "      <td>0.271552</td>\n",
       "      <td>0.269778</td>\n",
       "      <td>0.266264</td>\n",
       "      <td>0.257283</td>\n",
       "      <td>0.152157</td>\n",
       "      <td>NaN</td>\n",
       "    </tr>\n",
       "    <tr>\n",
       "      <th>2015-03</th>\n",
       "      <td>1.0</td>\n",
       "      <td>0.213866</td>\n",
       "      <td>0.281886</td>\n",
       "      <td>0.240630</td>\n",
       "      <td>0.276149</td>\n",
       "      <td>0.260270</td>\n",
       "      <td>0.254239</td>\n",
       "      <td>0.257281</td>\n",
       "      <td>0.271017</td>\n",
       "      <td>0.232713</td>\n",
       "      <td>0.154849</td>\n",
       "      <td>NaN</td>\n",
       "      <td>NaN</td>\n",
       "    </tr>\n",
       "    <tr>\n",
       "      <th>2015-04</th>\n",
       "      <td>1.0</td>\n",
       "      <td>0.236608</td>\n",
       "      <td>0.209796</td>\n",
       "      <td>0.226803</td>\n",
       "      <td>0.235463</td>\n",
       "      <td>0.235987</td>\n",
       "      <td>0.249995</td>\n",
       "      <td>0.254618</td>\n",
       "      <td>0.218052</td>\n",
       "      <td>0.157018</td>\n",
       "      <td>NaN</td>\n",
       "      <td>NaN</td>\n",
       "      <td>NaN</td>\n",
       "    </tr>\n",
       "    <tr>\n",
       "      <th>2015-05</th>\n",
       "      <td>1.0</td>\n",
       "      <td>0.243732</td>\n",
       "      <td>0.256930</td>\n",
       "      <td>0.236745</td>\n",
       "      <td>0.274030</td>\n",
       "      <td>0.262927</td>\n",
       "      <td>0.231461</td>\n",
       "      <td>0.240470</td>\n",
       "      <td>0.126891</td>\n",
       "      <td>NaN</td>\n",
       "      <td>NaN</td>\n",
       "      <td>NaN</td>\n",
       "      <td>NaN</td>\n",
       "    </tr>\n",
       "  </tbody>\n",
       "</table>\n",
       "</div>"
      ],
      "text/plain": [
       "period   0.0       1.0       2.0       3.0       4.0       5.0       6.0   \\\n",
       "cohort                                                                      \n",
       "2015-01   1.0  0.246661  0.238351  0.234948  0.207410  0.225352  0.234686   \n",
       "2015-02   1.0  0.255012  0.256790  0.261056  0.246461  0.271119  0.246125   \n",
       "2015-03   1.0  0.213866  0.281886  0.240630  0.276149  0.260270  0.254239   \n",
       "2015-04   1.0  0.236608  0.209796  0.226803  0.235463  0.235987  0.249995   \n",
       "2015-05   1.0  0.243732  0.256930  0.236745  0.274030  0.262927  0.231461   \n",
       "\n",
       "period       7.0       8.0       9.0       10.0      11.0      12.0  \n",
       "cohort                                                               \n",
       "2015-01  0.246282  0.224771  0.253295  0.229901  0.247400  0.122765  \n",
       "2015-02  0.271552  0.269778  0.266264  0.257283  0.152157       NaN  \n",
       "2015-03  0.257281  0.271017  0.232713  0.154849       NaN       NaN  \n",
       "2015-04  0.254618  0.218052  0.157018       NaN       NaN       NaN  \n",
       "2015-05  0.240470  0.126891       NaN       NaN       NaN       NaN  "
      ]
     },
     "execution_count": 18,
     "metadata": {},
     "output_type": "execute_result"
    }
   ],
   "source": [
    "sales_monthly_volume = sales_monthly.iloc[:,0]\n",
    "sales_monthly = sales_monthly.divide(sales_monthly_volume, axis = 0)\n",
    "sales_monthly.head()"
   ]
  },
  {
   "cell_type": "markdown",
   "metadata": {},
   "source": [
    "For reading this heatmap, from left to right we have: <br>\n",
    "\n",
    "In the first column, the cohorts. <br>\n",
    "\n",
    "In the second column, the total sales at moment 0. <br>\n",
    "\n",
    "Then, we have an entire green column with 100% in each row, this is because it represents the percentage in relation with moment 0 and therefore, a number divided by itself, it is 1. <br>\n",
    "\n",
    "The rest of the columns represents each period (which you can find on the bottom) and its percentage in comparison to moment 0 as well.<br>\n",
    "\n",
    "Example:<br>\n",
    "\n",
    "For the cohort \"2015-01\" we sold them USD 58032.3 at the beginning (moment 0) but for period 1, we sold them only 25% of original sales done at moment 0. Therefore, the sales for this cohort at period 1 has decreased in comparison with moment 0."
   ]
  },
  {
   "cell_type": "code",
   "execution_count": 19,
   "metadata": {},
   "outputs": [
    {
     "data": {
      "text/plain": [
       "<Figure size 2160x2160 with 0 Axes>"
      ]
     },
     "metadata": {},
     "output_type": "display_data"
    },
    {
     "data": {
      "image/png": "[encoded data removed]",
      "text/plain": [
       "<Figure size 864x576 with 3 Axes>"
      ]
     },
     "metadata": {},
     "output_type": "display_data"
    }
   ],
   "source": [
    "plt.figure(1, figsize=[30,30])\n",
    "\n",
    "with sns.axes_style(\"white\"):\n",
    "    fig, ax = plt.subplots(1, 2, figsize=(12, 8), sharey=True, gridspec_kw={'width_ratios': [1, 11]})\n",
    "    \n",
    "    # retention matrix\n",
    "    sns.heatmap(sales_monthly, \n",
    "                mask=sales_monthly.isnull(), \n",
    "                annot=True, \n",
    "                fmt='.0%', \n",
    "                cmap='RdYlGn', \n",
    "                ax=ax[1])\n",
    "    ax[1].set_title('Shares of returning sales per cohort', fontsize=16)\n",
    "    ax[1].set(xlabel='# of periods',\n",
    "              ylabel='')\n",
    "\n",
    "    # cohort size\n",
    "    sales_monthly_volume_df = pd.DataFrame(sales_monthly_volume).rename(columns={0: 'Total_sales'})\n",
    "    white_cmap = mcolors.ListedColormap(['white'])\n",
    "    sns.heatmap(sales_monthly_volume_df, \n",
    "                annot=True, \n",
    "                cbar=False, \n",
    "                fmt='g', \n",
    "                cmap=white_cmap, \n",
    "                ax=ax[0])\n",
    "\n",
    "    fig.tight_layout()"
   ]
  },
  {
   "cell_type": "markdown",
   "metadata": {},
   "source": [
    "## Are they leaving or staying? Cohort retention "
   ]
  },
  {
   "cell_type": "markdown",
   "metadata": {},
   "source": [
    "Cohort retention is a good way to know about how is the engagement between our customers and us. This measures if a given customer has made, at least one purchase, in the following periods. <br>\n",
    "\n",
    "The other view of this is that acquiring customer might be expensive and therefore, we need to be able to retain them as long as possible. <br>"
   ]
  },
  {
   "cell_type": "markdown",
   "metadata": {},
   "source": [
    "We only count one transaction per customer and period."
   ]
  },
  {
   "cell_type": "code",
   "execution_count": 20,
   "metadata": {},
   "outputs": [
    {
     "data": {
      "text/html": [
       "<div>\n",
       "<style scoped>\n",
       "    .dataframe tbody tr th:only-of-type {\n",
       "        vertical-align: middle;\n",
       "    }\n",
       "\n",
       "    .dataframe tbody tr th {\n",
       "        vertical-align: top;\n",
       "    }\n",
       "\n",
       "    .dataframe thead th {\n",
       "        text-align: right;\n",
       "    }\n",
       "</style>\n",
       "<table border=\"1\" class=\"dataframe\">\n",
       "  <thead>\n",
       "    <tr style=\"text-align: right;\">\n",
       "      <th></th>\n",
       "      <th>net_amount</th>\n",
       "      <th>customer</th>\n",
       "      <th>created</th>\n",
       "      <th>first_purchase</th>\n",
       "      <th>cohort</th>\n",
       "      <th>monthly</th>\n",
       "      <th>period</th>\n",
       "    </tr>\n",
       "  </thead>\n",
       "  <tbody>\n",
       "    <tr>\n",
       "      <th>0</th>\n",
       "      <td>57.37</td>\n",
       "      <td>5634</td>\n",
       "      <td>2015-11-21</td>\n",
       "      <td>2015-03-11</td>\n",
       "      <td>2015-03</td>\n",
       "      <td>2015-11</td>\n",
       "      <td>9.0</td>\n",
       "    </tr>\n",
       "    <tr>\n",
       "      <th>1</th>\n",
       "      <td>2.40</td>\n",
       "      <td>3906</td>\n",
       "      <td>2015-10-02</td>\n",
       "      <td>2015-10-02</td>\n",
       "      <td>2015-10</td>\n",
       "      <td>2015-10</td>\n",
       "      <td>0.0</td>\n",
       "    </tr>\n",
       "    <tr>\n",
       "      <th>2</th>\n",
       "      <td>70.30</td>\n",
       "      <td>8073</td>\n",
       "      <td>2015-08-13</td>\n",
       "      <td>2015-04-01</td>\n",
       "      <td>2015-04</td>\n",
       "      <td>2015-08</td>\n",
       "      <td>5.0</td>\n",
       "    </tr>\n",
       "    <tr>\n",
       "      <th>3</th>\n",
       "      <td>1.65</td>\n",
       "      <td>5297</td>\n",
       "      <td>2015-06-25</td>\n",
       "      <td>2015-01-06</td>\n",
       "      <td>2015-01</td>\n",
       "      <td>2015-06</td>\n",
       "      <td>6.0</td>\n",
       "    </tr>\n",
       "    <tr>\n",
       "      <th>4</th>\n",
       "      <td>32.08</td>\n",
       "      <td>2607</td>\n",
       "      <td>2015-06-19</td>\n",
       "      <td>2015-02-20</td>\n",
       "      <td>2015-02</td>\n",
       "      <td>2015-06</td>\n",
       "      <td>4.0</td>\n",
       "    </tr>\n",
       "  </tbody>\n",
       "</table>\n",
       "</div>"
      ],
      "text/plain": [
       "   net_amount  customer    created first_purchase   cohort  monthly  period\n",
       "0       57.37      5634 2015-11-21     2015-03-11  2015-03  2015-11     9.0\n",
       "1        2.40      3906 2015-10-02     2015-10-02  2015-10  2015-10     0.0\n",
       "2       70.30      8073 2015-08-13     2015-04-01  2015-04  2015-08     5.0\n",
       "3        1.65      5297 2015-06-25     2015-01-06  2015-01  2015-06     6.0\n",
       "4       32.08      2607 2015-06-19     2015-02-20  2015-02  2015-06     4.0"
      ]
     },
     "execution_count": 20,
     "metadata": {},
     "output_type": "execute_result"
    }
   ],
   "source": [
    "cohort= my_data.drop_duplicates(subset=['cohort', 'period', 'customer'], keep='first', inplace=False)\n",
    "\n",
    "cohort.head()"
   ]
  },
  {
   "cell_type": "markdown",
   "metadata": {},
   "source": [
    "After getting one transaction per customer and period, we count how many customers we have per cohort and period."
   ]
  },
  {
   "cell_type": "code",
   "execution_count": 21,
   "metadata": {},
   "outputs": [
    {
     "data": {
      "text/html": [
       "<div>\n",
       "<style scoped>\n",
       "    .dataframe tbody tr th:only-of-type {\n",
       "        vertical-align: middle;\n",
       "    }\n",
       "\n",
       "    .dataframe tbody tr th {\n",
       "        vertical-align: top;\n",
       "    }\n",
       "\n",
       "    .dataframe thead th {\n",
       "        text-align: right;\n",
       "    }\n",
       "</style>\n",
       "<table border=\"1\" class=\"dataframe\">\n",
       "  <thead>\n",
       "    <tr style=\"text-align: right;\">\n",
       "      <th></th>\n",
       "      <th>period</th>\n",
       "      <th>cohort</th>\n",
       "      <th>customer</th>\n",
       "    </tr>\n",
       "  </thead>\n",
       "  <tbody>\n",
       "    <tr>\n",
       "      <th>0</th>\n",
       "      <td>0.0</td>\n",
       "      <td>2015-01</td>\n",
       "      <td>2240</td>\n",
       "    </tr>\n",
       "    <tr>\n",
       "      <th>1</th>\n",
       "      <td>0.0</td>\n",
       "      <td>2015-02</td>\n",
       "      <td>1608</td>\n",
       "    </tr>\n",
       "    <tr>\n",
       "      <th>2</th>\n",
       "      <td>0.0</td>\n",
       "      <td>2015-03</td>\n",
       "      <td>1408</td>\n",
       "    </tr>\n",
       "    <tr>\n",
       "      <th>3</th>\n",
       "      <td>0.0</td>\n",
       "      <td>2015-04</td>\n",
       "      <td>996</td>\n",
       "    </tr>\n",
       "    <tr>\n",
       "      <th>4</th>\n",
       "      <td>0.0</td>\n",
       "      <td>2015-05</td>\n",
       "      <td>809</td>\n",
       "    </tr>\n",
       "  </tbody>\n",
       "</table>\n",
       "</div>"
      ],
      "text/plain": [
       "   period   cohort  customer\n",
       "0     0.0  2015-01      2240\n",
       "1     0.0  2015-02      1608\n",
       "2     0.0  2015-03      1408\n",
       "3     0.0  2015-04       996\n",
       "4     0.0  2015-05       809"
      ]
     },
     "execution_count": 21,
     "metadata": {},
     "output_type": "execute_result"
    }
   ],
   "source": [
    "cohort_number=pd.DataFrame(cohort.groupby(['period', 'cohort'])['customer'].count()).reset_index()\n",
    "\n",
    "cohort_number.head()"
   ]
  },
  {
   "cell_type": "markdown",
   "metadata": {},
   "source": [
    "We create a pivot table where each row is a cohort, each column is a period and the values of each cell are the number of customers for that cohort and period."
   ]
  },
  {
   "cell_type": "code",
   "execution_count": 22,
   "metadata": {},
   "outputs": [
    {
     "data": {
      "text/html": [
       "<div>\n",
       "<style scoped>\n",
       "    .dataframe tbody tr th:only-of-type {\n",
       "        vertical-align: middle;\n",
       "    }\n",
       "\n",
       "    .dataframe tbody tr th {\n",
       "        vertical-align: top;\n",
       "    }\n",
       "\n",
       "    .dataframe thead th {\n",
       "        text-align: right;\n",
       "    }\n",
       "</style>\n",
       "<table border=\"1\" class=\"dataframe\">\n",
       "  <thead>\n",
       "    <tr style=\"text-align: right;\">\n",
       "      <th>period</th>\n",
       "      <th>0.0</th>\n",
       "      <th>1.0</th>\n",
       "      <th>2.0</th>\n",
       "      <th>3.0</th>\n",
       "      <th>4.0</th>\n",
       "      <th>5.0</th>\n",
       "      <th>6.0</th>\n",
       "      <th>7.0</th>\n",
       "      <th>8.0</th>\n",
       "      <th>9.0</th>\n",
       "      <th>10.0</th>\n",
       "      <th>11.0</th>\n",
       "      <th>12.0</th>\n",
       "    </tr>\n",
       "    <tr>\n",
       "      <th>cohort</th>\n",
       "      <th></th>\n",
       "      <th></th>\n",
       "      <th></th>\n",
       "      <th></th>\n",
       "      <th></th>\n",
       "      <th></th>\n",
       "      <th></th>\n",
       "      <th></th>\n",
       "      <th></th>\n",
       "      <th></th>\n",
       "      <th></th>\n",
       "      <th></th>\n",
       "      <th></th>\n",
       "    </tr>\n",
       "  </thead>\n",
       "  <tbody>\n",
       "    <tr>\n",
       "      <th>2015-01</th>\n",
       "      <td>2240.0</td>\n",
       "      <td>506.0</td>\n",
       "      <td>508.0</td>\n",
       "      <td>477.0</td>\n",
       "      <td>452.0</td>\n",
       "      <td>476.0</td>\n",
       "      <td>500.0</td>\n",
       "      <td>507.0</td>\n",
       "      <td>458.0</td>\n",
       "      <td>523.0</td>\n",
       "      <td>495.0</td>\n",
       "      <td>506.0</td>\n",
       "      <td>274.0</td>\n",
       "    </tr>\n",
       "    <tr>\n",
       "      <th>2015-02</th>\n",
       "      <td>1608.0</td>\n",
       "      <td>364.0</td>\n",
       "      <td>339.0</td>\n",
       "      <td>372.0</td>\n",
       "      <td>359.0</td>\n",
       "      <td>358.0</td>\n",
       "      <td>372.0</td>\n",
       "      <td>377.0</td>\n",
       "      <td>371.0</td>\n",
       "      <td>357.0</td>\n",
       "      <td>378.0</td>\n",
       "      <td>224.0</td>\n",
       "      <td>NaN</td>\n",
       "    </tr>\n",
       "    <tr>\n",
       "      <th>2015-03</th>\n",
       "      <td>1408.0</td>\n",
       "      <td>279.0</td>\n",
       "      <td>342.0</td>\n",
       "      <td>299.0</td>\n",
       "      <td>322.0</td>\n",
       "      <td>308.0</td>\n",
       "      <td>298.0</td>\n",
       "      <td>316.0</td>\n",
       "      <td>330.0</td>\n",
       "      <td>313.0</td>\n",
       "      <td>187.0</td>\n",
       "      <td>NaN</td>\n",
       "      <td>NaN</td>\n",
       "    </tr>\n",
       "    <tr>\n",
       "      <th>2015-04</th>\n",
       "      <td>996.0</td>\n",
       "      <td>222.0</td>\n",
       "      <td>206.0</td>\n",
       "      <td>210.0</td>\n",
       "      <td>221.0</td>\n",
       "      <td>215.0</td>\n",
       "      <td>228.0</td>\n",
       "      <td>240.0</td>\n",
       "      <td>212.0</td>\n",
       "      <td>143.0</td>\n",
       "      <td>NaN</td>\n",
       "      <td>NaN</td>\n",
       "      <td>NaN</td>\n",
       "    </tr>\n",
       "    <tr>\n",
       "      <th>2015-05</th>\n",
       "      <td>809.0</td>\n",
       "      <td>170.0</td>\n",
       "      <td>177.0</td>\n",
       "      <td>166.0</td>\n",
       "      <td>183.0</td>\n",
       "      <td>180.0</td>\n",
       "      <td>178.0</td>\n",
       "      <td>176.0</td>\n",
       "      <td>92.0</td>\n",
       "      <td>NaN</td>\n",
       "      <td>NaN</td>\n",
       "      <td>NaN</td>\n",
       "      <td>NaN</td>\n",
       "    </tr>\n",
       "    <tr>\n",
       "      <th>2015-06</th>\n",
       "      <td>645.0</td>\n",
       "      <td>161.0</td>\n",
       "      <td>132.0</td>\n",
       "      <td>154.0</td>\n",
       "      <td>158.0</td>\n",
       "      <td>131.0</td>\n",
       "      <td>142.0</td>\n",
       "      <td>85.0</td>\n",
       "      <td>NaN</td>\n",
       "      <td>NaN</td>\n",
       "      <td>NaN</td>\n",
       "      <td>NaN</td>\n",
       "      <td>NaN</td>\n",
       "    </tr>\n",
       "    <tr>\n",
       "      <th>2015-07</th>\n",
       "      <td>497.0</td>\n",
       "      <td>111.0</td>\n",
       "      <td>96.0</td>\n",
       "      <td>101.0</td>\n",
       "      <td>125.0</td>\n",
       "      <td>116.0</td>\n",
       "      <td>65.0</td>\n",
       "      <td>NaN</td>\n",
       "      <td>NaN</td>\n",
       "      <td>NaN</td>\n",
       "      <td>NaN</td>\n",
       "      <td>NaN</td>\n",
       "      <td>NaN</td>\n",
       "    </tr>\n",
       "    <tr>\n",
       "      <th>2015-08</th>\n",
       "      <td>380.0</td>\n",
       "      <td>76.0</td>\n",
       "      <td>80.0</td>\n",
       "      <td>89.0</td>\n",
       "      <td>86.0</td>\n",
       "      <td>48.0</td>\n",
       "      <td>NaN</td>\n",
       "      <td>NaN</td>\n",
       "      <td>NaN</td>\n",
       "      <td>NaN</td>\n",
       "      <td>NaN</td>\n",
       "      <td>NaN</td>\n",
       "      <td>NaN</td>\n",
       "    </tr>\n",
       "    <tr>\n",
       "      <th>2015-09</th>\n",
       "      <td>310.0</td>\n",
       "      <td>66.0</td>\n",
       "      <td>70.0</td>\n",
       "      <td>75.0</td>\n",
       "      <td>40.0</td>\n",
       "      <td>NaN</td>\n",
       "      <td>NaN</td>\n",
       "      <td>NaN</td>\n",
       "      <td>NaN</td>\n",
       "      <td>NaN</td>\n",
       "      <td>NaN</td>\n",
       "      <td>NaN</td>\n",
       "      <td>NaN</td>\n",
       "    </tr>\n",
       "    <tr>\n",
       "      <th>2015-10</th>\n",
       "      <td>248.0</td>\n",
       "      <td>57.0</td>\n",
       "      <td>49.0</td>\n",
       "      <td>29.0</td>\n",
       "      <td>NaN</td>\n",
       "      <td>NaN</td>\n",
       "      <td>NaN</td>\n",
       "      <td>NaN</td>\n",
       "      <td>NaN</td>\n",
       "      <td>NaN</td>\n",
       "      <td>NaN</td>\n",
       "      <td>NaN</td>\n",
       "      <td>NaN</td>\n",
       "    </tr>\n",
       "    <tr>\n",
       "      <th>2015-11</th>\n",
       "      <td>202.0</td>\n",
       "      <td>48.0</td>\n",
       "      <td>22.0</td>\n",
       "      <td>NaN</td>\n",
       "      <td>NaN</td>\n",
       "      <td>NaN</td>\n",
       "      <td>NaN</td>\n",
       "      <td>NaN</td>\n",
       "      <td>NaN</td>\n",
       "      <td>NaN</td>\n",
       "      <td>NaN</td>\n",
       "      <td>NaN</td>\n",
       "      <td>NaN</td>\n",
       "    </tr>\n",
       "    <tr>\n",
       "      <th>2015-12</th>\n",
       "      <td>139.0</td>\n",
       "      <td>12.0</td>\n",
       "      <td>NaN</td>\n",
       "      <td>NaN</td>\n",
       "      <td>NaN</td>\n",
       "      <td>NaN</td>\n",
       "      <td>NaN</td>\n",
       "      <td>NaN</td>\n",
       "      <td>NaN</td>\n",
       "      <td>NaN</td>\n",
       "      <td>NaN</td>\n",
       "      <td>NaN</td>\n",
       "      <td>NaN</td>\n",
       "    </tr>\n",
       "  </tbody>\n",
       "</table>\n",
       "</div>"
      ],
      "text/plain": [
       "period     0.0    1.0    2.0    3.0    4.0    5.0    6.0    7.0    8.0   \\\n",
       "cohort                                                                    \n",
       "2015-01  2240.0  506.0  508.0  477.0  452.0  476.0  500.0  507.0  458.0   \n",
       "2015-02  1608.0  364.0  339.0  372.0  359.0  358.0  372.0  377.0  371.0   \n",
       "2015-03  1408.0  279.0  342.0  299.0  322.0  308.0  298.0  316.0  330.0   \n",
       "2015-04   996.0  222.0  206.0  210.0  221.0  215.0  228.0  240.0  212.0   \n",
       "2015-05   809.0  170.0  177.0  166.0  183.0  180.0  178.0  176.0   92.0   \n",
       "2015-06   645.0  161.0  132.0  154.0  158.0  131.0  142.0   85.0    NaN   \n",
       "2015-07   497.0  111.0   96.0  101.0  125.0  116.0   65.0    NaN    NaN   \n",
       "2015-08   380.0   76.0   80.0   89.0   86.0   48.0    NaN    NaN    NaN   \n",
       "2015-09   310.0   66.0   70.0   75.0   40.0    NaN    NaN    NaN    NaN   \n",
       "2015-10   248.0   57.0   49.0   29.0    NaN    NaN    NaN    NaN    NaN   \n",
       "2015-11   202.0   48.0   22.0    NaN    NaN    NaN    NaN    NaN    NaN   \n",
       "2015-12   139.0   12.0    NaN    NaN    NaN    NaN    NaN    NaN    NaN   \n",
       "\n",
       "period    9.0    10.0   11.0   12.0  \n",
       "cohort                               \n",
       "2015-01  523.0  495.0  506.0  274.0  \n",
       "2015-02  357.0  378.0  224.0    NaN  \n",
       "2015-03  313.0  187.0    NaN    NaN  \n",
       "2015-04  143.0    NaN    NaN    NaN  \n",
       "2015-05    NaN    NaN    NaN    NaN  \n",
       "2015-06    NaN    NaN    NaN    NaN  \n",
       "2015-07    NaN    NaN    NaN    NaN  \n",
       "2015-08    NaN    NaN    NaN    NaN  \n",
       "2015-09    NaN    NaN    NaN    NaN  \n",
       "2015-10    NaN    NaN    NaN    NaN  \n",
       "2015-11    NaN    NaN    NaN    NaN  \n",
       "2015-12    NaN    NaN    NaN    NaN  "
      ]
     },
     "execution_count": 22,
     "metadata": {},
     "output_type": "execute_result"
    }
   ],
   "source": [
    "cohort_pivot_table = cohort_number.pivot_table(index = 'cohort',\n",
    "                                     columns = 'period',\n",
    "                                     values = 'customer')\n",
    "cohort_pivot_table"
   ]
  },
  {
   "cell_type": "markdown",
   "metadata": {},
   "source": [
    "For this step, we get the beginning size for each cohort and divide the number of customers of each cohort and each period for the beginning size of its respective cohort. "
   ]
  },
  {
   "cell_type": "code",
   "execution_count": 23,
   "metadata": {},
   "outputs": [
    {
     "data": {
      "text/html": [
       "<div>\n",
       "<style scoped>\n",
       "    .dataframe tbody tr th:only-of-type {\n",
       "        vertical-align: middle;\n",
       "    }\n",
       "\n",
       "    .dataframe tbody tr th {\n",
       "        vertical-align: top;\n",
       "    }\n",
       "\n",
       "    .dataframe thead th {\n",
       "        text-align: right;\n",
       "    }\n",
       "</style>\n",
       "<table border=\"1\" class=\"dataframe\">\n",
       "  <thead>\n",
       "    <tr style=\"text-align: right;\">\n",
       "      <th>period</th>\n",
       "      <th>0.0</th>\n",
       "      <th>1.0</th>\n",
       "      <th>2.0</th>\n",
       "      <th>3.0</th>\n",
       "      <th>4.0</th>\n",
       "      <th>5.0</th>\n",
       "      <th>6.0</th>\n",
       "      <th>7.0</th>\n",
       "      <th>8.0</th>\n",
       "      <th>9.0</th>\n",
       "      <th>10.0</th>\n",
       "      <th>11.0</th>\n",
       "      <th>12.0</th>\n",
       "    </tr>\n",
       "    <tr>\n",
       "      <th>cohort</th>\n",
       "      <th></th>\n",
       "      <th></th>\n",
       "      <th></th>\n",
       "      <th></th>\n",
       "      <th></th>\n",
       "      <th></th>\n",
       "      <th></th>\n",
       "      <th></th>\n",
       "      <th></th>\n",
       "      <th></th>\n",
       "      <th></th>\n",
       "      <th></th>\n",
       "      <th></th>\n",
       "    </tr>\n",
       "  </thead>\n",
       "  <tbody>\n",
       "    <tr>\n",
       "      <th>2015-01</th>\n",
       "      <td>1.0</td>\n",
       "      <td>0.225893</td>\n",
       "      <td>0.226786</td>\n",
       "      <td>0.212946</td>\n",
       "      <td>0.201786</td>\n",
       "      <td>0.212500</td>\n",
       "      <td>0.223214</td>\n",
       "      <td>0.226339</td>\n",
       "      <td>0.204464</td>\n",
       "      <td>0.233482</td>\n",
       "      <td>0.220982</td>\n",
       "      <td>0.225893</td>\n",
       "      <td>0.122321</td>\n",
       "    </tr>\n",
       "    <tr>\n",
       "      <th>2015-02</th>\n",
       "      <td>1.0</td>\n",
       "      <td>0.226368</td>\n",
       "      <td>0.210821</td>\n",
       "      <td>0.231343</td>\n",
       "      <td>0.223259</td>\n",
       "      <td>0.222637</td>\n",
       "      <td>0.231343</td>\n",
       "      <td>0.234453</td>\n",
       "      <td>0.230721</td>\n",
       "      <td>0.222015</td>\n",
       "      <td>0.235075</td>\n",
       "      <td>0.139303</td>\n",
       "      <td>NaN</td>\n",
       "    </tr>\n",
       "    <tr>\n",
       "      <th>2015-03</th>\n",
       "      <td>1.0</td>\n",
       "      <td>0.198153</td>\n",
       "      <td>0.242898</td>\n",
       "      <td>0.212358</td>\n",
       "      <td>0.228693</td>\n",
       "      <td>0.218750</td>\n",
       "      <td>0.211648</td>\n",
       "      <td>0.224432</td>\n",
       "      <td>0.234375</td>\n",
       "      <td>0.222301</td>\n",
       "      <td>0.132812</td>\n",
       "      <td>NaN</td>\n",
       "      <td>NaN</td>\n",
       "    </tr>\n",
       "    <tr>\n",
       "      <th>2015-04</th>\n",
       "      <td>1.0</td>\n",
       "      <td>0.222892</td>\n",
       "      <td>0.206827</td>\n",
       "      <td>0.210843</td>\n",
       "      <td>0.221888</td>\n",
       "      <td>0.215863</td>\n",
       "      <td>0.228916</td>\n",
       "      <td>0.240964</td>\n",
       "      <td>0.212851</td>\n",
       "      <td>0.143574</td>\n",
       "      <td>NaN</td>\n",
       "      <td>NaN</td>\n",
       "      <td>NaN</td>\n",
       "    </tr>\n",
       "    <tr>\n",
       "      <th>2015-05</th>\n",
       "      <td>1.0</td>\n",
       "      <td>0.210136</td>\n",
       "      <td>0.218789</td>\n",
       "      <td>0.205192</td>\n",
       "      <td>0.226205</td>\n",
       "      <td>0.222497</td>\n",
       "      <td>0.220025</td>\n",
       "      <td>0.217553</td>\n",
       "      <td>0.113721</td>\n",
       "      <td>NaN</td>\n",
       "      <td>NaN</td>\n",
       "      <td>NaN</td>\n",
       "      <td>NaN</td>\n",
       "    </tr>\n",
       "    <tr>\n",
       "      <th>2015-06</th>\n",
       "      <td>1.0</td>\n",
       "      <td>0.249612</td>\n",
       "      <td>0.204651</td>\n",
       "      <td>0.238760</td>\n",
       "      <td>0.244961</td>\n",
       "      <td>0.203101</td>\n",
       "      <td>0.220155</td>\n",
       "      <td>0.131783</td>\n",
       "      <td>NaN</td>\n",
       "      <td>NaN</td>\n",
       "      <td>NaN</td>\n",
       "      <td>NaN</td>\n",
       "      <td>NaN</td>\n",
       "    </tr>\n",
       "    <tr>\n",
       "      <th>2015-07</th>\n",
       "      <td>1.0</td>\n",
       "      <td>0.223340</td>\n",
       "      <td>0.193159</td>\n",
       "      <td>0.203219</td>\n",
       "      <td>0.251509</td>\n",
       "      <td>0.233400</td>\n",
       "      <td>0.130785</td>\n",
       "      <td>NaN</td>\n",
       "      <td>NaN</td>\n",
       "      <td>NaN</td>\n",
       "      <td>NaN</td>\n",
       "      <td>NaN</td>\n",
       "      <td>NaN</td>\n",
       "    </tr>\n",
       "    <tr>\n",
       "      <th>2015-08</th>\n",
       "      <td>1.0</td>\n",
       "      <td>0.200000</td>\n",
       "      <td>0.210526</td>\n",
       "      <td>0.234211</td>\n",
       "      <td>0.226316</td>\n",
       "      <td>0.126316</td>\n",
       "      <td>NaN</td>\n",
       "      <td>NaN</td>\n",
       "      <td>NaN</td>\n",
       "      <td>NaN</td>\n",
       "      <td>NaN</td>\n",
       "      <td>NaN</td>\n",
       "      <td>NaN</td>\n",
       "    </tr>\n",
       "    <tr>\n",
       "      <th>2015-09</th>\n",
       "      <td>1.0</td>\n",
       "      <td>0.212903</td>\n",
       "      <td>0.225806</td>\n",
       "      <td>0.241935</td>\n",
       "      <td>0.129032</td>\n",
       "      <td>NaN</td>\n",
       "      <td>NaN</td>\n",
       "      <td>NaN</td>\n",
       "      <td>NaN</td>\n",
       "      <td>NaN</td>\n",
       "      <td>NaN</td>\n",
       "      <td>NaN</td>\n",
       "      <td>NaN</td>\n",
       "    </tr>\n",
       "    <tr>\n",
       "      <th>2015-10</th>\n",
       "      <td>1.0</td>\n",
       "      <td>0.229839</td>\n",
       "      <td>0.197581</td>\n",
       "      <td>0.116935</td>\n",
       "      <td>NaN</td>\n",
       "      <td>NaN</td>\n",
       "      <td>NaN</td>\n",
       "      <td>NaN</td>\n",
       "      <td>NaN</td>\n",
       "      <td>NaN</td>\n",
       "      <td>NaN</td>\n",
       "      <td>NaN</td>\n",
       "      <td>NaN</td>\n",
       "    </tr>\n",
       "    <tr>\n",
       "      <th>2015-11</th>\n",
       "      <td>1.0</td>\n",
       "      <td>0.237624</td>\n",
       "      <td>0.108911</td>\n",
       "      <td>NaN</td>\n",
       "      <td>NaN</td>\n",
       "      <td>NaN</td>\n",
       "      <td>NaN</td>\n",
       "      <td>NaN</td>\n",
       "      <td>NaN</td>\n",
       "      <td>NaN</td>\n",
       "      <td>NaN</td>\n",
       "      <td>NaN</td>\n",
       "      <td>NaN</td>\n",
       "    </tr>\n",
       "    <tr>\n",
       "      <th>2015-12</th>\n",
       "      <td>1.0</td>\n",
       "      <td>0.086331</td>\n",
       "      <td>NaN</td>\n",
       "      <td>NaN</td>\n",
       "      <td>NaN</td>\n",
       "      <td>NaN</td>\n",
       "      <td>NaN</td>\n",
       "      <td>NaN</td>\n",
       "      <td>NaN</td>\n",
       "      <td>NaN</td>\n",
       "      <td>NaN</td>\n",
       "      <td>NaN</td>\n",
       "      <td>NaN</td>\n",
       "    </tr>\n",
       "  </tbody>\n",
       "</table>\n",
       "</div>"
      ],
      "text/plain": [
       "period   0.0       1.0       2.0       3.0       4.0       5.0       6.0   \\\n",
       "cohort                                                                      \n",
       "2015-01   1.0  0.225893  0.226786  0.212946  0.201786  0.212500  0.223214   \n",
       "2015-02   1.0  0.226368  0.210821  0.231343  0.223259  0.222637  0.231343   \n",
       "2015-03   1.0  0.198153  0.242898  0.212358  0.228693  0.218750  0.211648   \n",
       "2015-04   1.0  0.222892  0.206827  0.210843  0.221888  0.215863  0.228916   \n",
       "2015-05   1.0  0.210136  0.218789  0.205192  0.226205  0.222497  0.220025   \n",
       "2015-06   1.0  0.249612  0.204651  0.238760  0.244961  0.203101  0.220155   \n",
       "2015-07   1.0  0.223340  0.193159  0.203219  0.251509  0.233400  0.130785   \n",
       "2015-08   1.0  0.200000  0.210526  0.234211  0.226316  0.126316       NaN   \n",
       "2015-09   1.0  0.212903  0.225806  0.241935  0.129032       NaN       NaN   \n",
       "2015-10   1.0  0.229839  0.197581  0.116935       NaN       NaN       NaN   \n",
       "2015-11   1.0  0.237624  0.108911       NaN       NaN       NaN       NaN   \n",
       "2015-12   1.0  0.086331       NaN       NaN       NaN       NaN       NaN   \n",
       "\n",
       "period       7.0       8.0       9.0       10.0      11.0      12.0  \n",
       "cohort                                                               \n",
       "2015-01  0.226339  0.204464  0.233482  0.220982  0.225893  0.122321  \n",
       "2015-02  0.234453  0.230721  0.222015  0.235075  0.139303       NaN  \n",
       "2015-03  0.224432  0.234375  0.222301  0.132812       NaN       NaN  \n",
       "2015-04  0.240964  0.212851  0.143574       NaN       NaN       NaN  \n",
       "2015-05  0.217553  0.113721       NaN       NaN       NaN       NaN  \n",
       "2015-06  0.131783       NaN       NaN       NaN       NaN       NaN  \n",
       "2015-07       NaN       NaN       NaN       NaN       NaN       NaN  \n",
       "2015-08       NaN       NaN       NaN       NaN       NaN       NaN  \n",
       "2015-09       NaN       NaN       NaN       NaN       NaN       NaN  \n",
       "2015-10       NaN       NaN       NaN       NaN       NaN       NaN  \n",
       "2015-11       NaN       NaN       NaN       NaN       NaN       NaN  \n",
       "2015-12       NaN       NaN       NaN       NaN       NaN       NaN  "
      ]
     },
     "execution_count": 23,
     "metadata": {},
     "output_type": "execute_result"
    }
   ],
   "source": [
    "cohort_size = cohort_pivot_table.iloc[:,0]\n",
    "cohort_retention = cohort_pivot_table.divide(cohort_size, axis = 0)\n",
    "\n",
    "cohort_retention"
   ]
  },
  {
   "cell_type": "markdown",
   "metadata": {},
   "source": [
    "For reading this heatmap, from left to right we have: <br>\n",
    "\n",
    "In the first column, the cohorts. <br>\n",
    "\n",
    "In the second column, the total customers at moment 0. <br>\n",
    "\n",
    "Then, we have an entire green column with 100% in each row, this is because it represents the percentage in relation with moment 0 and therefore, a number divided by itself, it is 1. <br>\n",
    "\n",
    "The rest of the columns represents each period (which you can find on the bottom) and its percentage in comparison at moment 0 as well.<br>\n",
    "\n",
    "Example:<br>\n",
    "\n",
    "The cohort \"2015-01\" started with 2240 customers but during period 1 only 23% of them have purchased again."
   ]
  },
  {
   "cell_type": "code",
   "execution_count": 24,
   "metadata": {},
   "outputs": [
    {
     "data": {
      "text/plain": [
       "<Figure size 2160x2160 with 0 Axes>"
      ]
     },
     "metadata": {},
     "output_type": "display_data"
    },
    {
     "data": {
      "image/png": "[encoded data removed]",
      "text/plain": [
       "<Figure size 864x576 with 3 Axes>"
      ]
     },
     "metadata": {},
     "output_type": "display_data"
    }
   ],
   "source": [
    "plt.figure(1, figsize=[30,30])\n",
    "\n",
    "with sns.axes_style(\"white\"):\n",
    "    fig, ax = plt.subplots(1, 2, figsize=(12, 8), sharey=True, gridspec_kw={'width_ratios': [1, 11]})\n",
    "    \n",
    "    # retention matrix\n",
    "    sns.heatmap(cohort_retention, \n",
    "                mask=cohort_retention.isnull(), \n",
    "                annot=True, \n",
    "                fmt='.0%', \n",
    "                cmap='RdYlGn', \n",
    "                ax=ax[1])\n",
    "    ax[1].set_title('Cohort Retention', fontsize=16)\n",
    "    ax[1].set(xlabel='# of periods',\n",
    "              ylabel='')\n",
    "\n",
    "    # cohort size\n",
    "    cohort_size_df = pd.DataFrame(cohort_size).rename(columns={0: 'cohort_size'})\n",
    "    white_cmap = mcolors.ListedColormap(['white'])\n",
    "    sns.heatmap(cohort_size_df, \n",
    "                annot=True, \n",
    "                cbar=False, \n",
    "                fmt='g', \n",
    "                cmap=white_cmap, \n",
    "                ax=ax[0])\n",
    "\n",
    "    fig.tight_layout()"
   ]
  },
  {
   "cell_type": "markdown",
   "metadata": {},
   "source": [
    "## How much are my customers worth it? Using Life Time Value\n",
    "LTV is a financial concept taken from investment valuation and it is the actual value of investment (or customer) based on his discounted cash flow. This is a very useful metric because allows you to know how much you can spend in customer acquisition. As you long as you have LTV bigger than your customer acquisition cost, you have a business.<br>\n",
    "\n",
    "LTV relies on several aspects and some of them are tricky to get: <br>\n",
    "\n",
    "Lifespan: it means how many a customer remains like a customer. <br>\n",
    "\n",
    "AOV: Average order value, it means how much -on average- a customer spends in your business. <br>\n",
    "\n",
    "Purchase frequency: In a given period of time, it is the number of times a customer has bought.  <br>\n",
    "\n",
    "Our data needs to have the next variables for our models which will be explained later in our notebook<br>\n",
    "\n",
    "<dd>a) Frequency: It is the number of periods where each customer has made at least one repeat purchase. If the period is measured in days, in the numbers of days which at least one purchase. <br></dd> \n",
    "\n",
    "<dd>b) T: is the age of customer in the unit time we choose, considering her first purchase and the end of the period under study. In our case, the end of the period will be the last transaction between all the transactions.  <br></dd> \n",
    "\n",
    "<dd>c) Recency: It is similar to T but it takes the last transaction for each customer  <br></dd> \n",
    "\n",
    "<dd>d) Monetary value: It is the average value of each purchase for a given customer<br></dd> \n"
   ]
  },
  {
   "cell_type": "markdown",
   "metadata": {},
   "source": [
    "Lets started to estimate the frequency and remember that time unit here is in days.  <br>\n",
    "The first step is to get the customers who have bought again, at least one more time."
   ]
  },
  {
   "cell_type": "code",
   "execution_count": 25,
   "metadata": {},
   "outputs": [
    {
     "data": {
      "text/plain": [
       "0    False\n",
       "1     True\n",
       "2     True\n",
       "3     True\n",
       "4    False\n",
       "dtype: bool"
      ]
     },
     "execution_count": 25,
     "metadata": {},
     "output_type": "execute_result"
    }
   ],
   "source": [
    "my_data=my_data.sort_values(['customer','created']).reset_index()\n",
    "share_returning=my_data.duplicated(subset='customer', keep='first')\n",
    "\n",
    "share_returning.head()"
   ]
  },
  {
   "cell_type": "markdown",
   "metadata": {},
   "source": [
    "The next step is to get the frequency for the time frame that we have chosen. If we would have chosen another timeframe like weeks, the frequency counts how many weeks a given customer has bought at least one time."
   ]
  },
  {
   "cell_type": "code",
   "execution_count": 26,
   "metadata": {},
   "outputs": [
    {
     "data": {
      "text/html": [
       "<div>\n",
       "<style scoped>\n",
       "    .dataframe tbody tr th:only-of-type {\n",
       "        vertical-align: middle;\n",
       "    }\n",
       "\n",
       "    .dataframe tbody tr th {\n",
       "        vertical-align: top;\n",
       "    }\n",
       "\n",
       "    .dataframe thead th {\n",
       "        text-align: right;\n",
       "    }\n",
       "</style>\n",
       "<table border=\"1\" class=\"dataframe\">\n",
       "  <thead>\n",
       "    <tr style=\"text-align: right;\">\n",
       "      <th></th>\n",
       "      <th>customer</th>\n",
       "      <th>frequency</th>\n",
       "    </tr>\n",
       "  </thead>\n",
       "  <tbody>\n",
       "    <tr>\n",
       "      <th>0</th>\n",
       "      <td>0</td>\n",
       "      <td>3</td>\n",
       "    </tr>\n",
       "    <tr>\n",
       "      <th>1</th>\n",
       "      <td>1</td>\n",
       "      <td>1</td>\n",
       "    </tr>\n",
       "    <tr>\n",
       "      <th>2</th>\n",
       "      <td>2</td>\n",
       "      <td>6</td>\n",
       "    </tr>\n",
       "    <tr>\n",
       "      <th>3</th>\n",
       "      <td>3</td>\n",
       "      <td>2</td>\n",
       "    </tr>\n",
       "    <tr>\n",
       "      <th>4</th>\n",
       "      <td>4</td>\n",
       "      <td>6</td>\n",
       "    </tr>\n",
       "  </tbody>\n",
       "</table>\n",
       "</div>"
      ],
      "text/plain": [
       "   customer  frequency\n",
       "0         0          3\n",
       "1         1          1\n",
       "2         2          6\n",
       "3         3          2\n",
       "4         4          6"
      ]
     },
     "execution_count": 26,
     "metadata": {},
     "output_type": "execute_result"
    }
   ],
   "source": [
    "frequency=pd.DataFrame(my_data[share_returning].groupby(['customer'])['net_amount'].count()).reset_index()\n",
    "frequency.columns =['customer', 'frequency'] \n",
    "frequency.head()"
   ]
  },
  {
   "cell_type": "markdown",
   "metadata": {},
   "source": [
    "Now, we will estimate T using the oldest transaction in our data and the first transaction for each customer. <br>\n"
   ]
  },
  {
   "cell_type": "code",
   "execution_count": 27,
   "metadata": {},
   "outputs": [],
   "source": [
    "my_data['T']=(max(my_data['created'])-my_data['first_purchase']).dt.days"
   ]
  },
  {
   "cell_type": "code",
   "execution_count": 28,
   "metadata": {},
   "outputs": [
    {
     "data": {
      "text/html": [
       "<div>\n",
       "<style scoped>\n",
       "    .dataframe tbody tr th:only-of-type {\n",
       "        vertical-align: middle;\n",
       "    }\n",
       "\n",
       "    .dataframe tbody tr th {\n",
       "        vertical-align: top;\n",
       "    }\n",
       "\n",
       "    .dataframe thead th {\n",
       "        text-align: right;\n",
       "    }\n",
       "</style>\n",
       "<table border=\"1\" class=\"dataframe\">\n",
       "  <thead>\n",
       "    <tr style=\"text-align: right;\">\n",
       "      <th></th>\n",
       "      <th>customer</th>\n",
       "      <th>T</th>\n",
       "    </tr>\n",
       "  </thead>\n",
       "  <tbody>\n",
       "    <tr>\n",
       "      <th>0</th>\n",
       "      <td>0</td>\n",
       "      <td>349</td>\n",
       "    </tr>\n",
       "    <tr>\n",
       "      <th>4</th>\n",
       "      <td>1</td>\n",
       "      <td>125</td>\n",
       "    </tr>\n",
       "    <tr>\n",
       "      <th>6</th>\n",
       "      <td>2</td>\n",
       "      <td>328</td>\n",
       "    </tr>\n",
       "    <tr>\n",
       "      <th>13</th>\n",
       "      <td>3</td>\n",
       "      <td>363</td>\n",
       "    </tr>\n",
       "    <tr>\n",
       "      <th>16</th>\n",
       "      <td>4</td>\n",
       "      <td>327</td>\n",
       "    </tr>\n",
       "  </tbody>\n",
       "</table>\n",
       "</div>"
      ],
      "text/plain": [
       "    customer    T\n",
       "0          0  349\n",
       "4          1  125\n",
       "6          2  328\n",
       "13         3  363\n",
       "16         4  327"
      ]
     },
     "execution_count": 28,
     "metadata": {},
     "output_type": "execute_result"
    }
   ],
   "source": [
    "#We deletes duplicates customers. Same customer has same T.\n",
    "T=my_data.drop_duplicates(subset='customer', keep='first')\n",
    "T=T[['customer','T']]\n",
    "T.head()"
   ]
  },
  {
   "cell_type": "markdown",
   "metadata": {},
   "source": [
    "For estimating recency, we calculate the last transaction for each customer."
   ]
  },
  {
   "cell_type": "code",
   "execution_count": 29,
   "metadata": {},
   "outputs": [],
   "source": [
    "last_purchase=pd.DataFrame(my_data.groupby(['customer'])['created'].max()).reset_index()\n",
    "\n",
    "last_purchase.columns =['customer', 'last_purchase'] "
   ]
  },
  {
   "cell_type": "markdown",
   "metadata": {},
   "source": [
    "A glimpse of last_purchase."
   ]
  },
  {
   "cell_type": "code",
   "execution_count": 30,
   "metadata": {},
   "outputs": [
    {
     "data": {
      "text/html": [
       "<div>\n",
       "<style scoped>\n",
       "    .dataframe tbody tr th:only-of-type {\n",
       "        vertical-align: middle;\n",
       "    }\n",
       "\n",
       "    .dataframe tbody tr th {\n",
       "        vertical-align: top;\n",
       "    }\n",
       "\n",
       "    .dataframe thead th {\n",
       "        text-align: right;\n",
       "    }\n",
       "</style>\n",
       "<table border=\"1\" class=\"dataframe\">\n",
       "  <thead>\n",
       "    <tr style=\"text-align: right;\">\n",
       "      <th></th>\n",
       "      <th>customer</th>\n",
       "      <th>last_purchase</th>\n",
       "    </tr>\n",
       "  </thead>\n",
       "  <tbody>\n",
       "    <tr>\n",
       "      <th>0</th>\n",
       "      <td>0</td>\n",
       "      <td>2015-09-11</td>\n",
       "    </tr>\n",
       "    <tr>\n",
       "      <th>1</th>\n",
       "      <td>1</td>\n",
       "      <td>2015-12-11</td>\n",
       "    </tr>\n",
       "    <tr>\n",
       "      <th>2</th>\n",
       "      <td>2</td>\n",
       "      <td>2015-10-24</td>\n",
       "    </tr>\n",
       "    <tr>\n",
       "      <th>3</th>\n",
       "      <td>3</td>\n",
       "      <td>2015-10-08</td>\n",
       "    </tr>\n",
       "    <tr>\n",
       "      <th>4</th>\n",
       "      <td>4</td>\n",
       "      <td>2015-12-09</td>\n",
       "    </tr>\n",
       "  </tbody>\n",
       "</table>\n",
       "</div>"
      ],
      "text/plain": [
       "   customer last_purchase\n",
       "0         0    2015-09-11\n",
       "1         1    2015-12-11\n",
       "2         2    2015-10-24\n",
       "3         3    2015-10-08\n",
       "4         4    2015-12-09"
      ]
     },
     "execution_count": 30,
     "metadata": {},
     "output_type": "execute_result"
    }
   ],
   "source": [
    "last_purchase.head()"
   ]
  },
  {
   "cell_type": "markdown",
   "metadata": {},
   "source": [
    "Then we merge this last_purchase with our first_purchase data frame for getting our recency, which is the difference between last purchase and the first purchase for each customer."
   ]
  },
  {
   "cell_type": "code",
   "execution_count": 31,
   "metadata": {},
   "outputs": [],
   "source": [
    "recency=first_purchase.merge(last_purchase, how='inner', on='customer')\n",
    "recency.head()\n",
    "\n",
    "recency['last_purchase']=pd.to_datetime(recency['last_purchase'])\n",
    "recency['first_purchase']=pd.to_datetime(recency['first_purchase'])"
   ]
  },
  {
   "cell_type": "code",
   "execution_count": 32,
   "metadata": {},
   "outputs": [
    {
     "data": {
      "text/html": [
       "<div>\n",
       "<style scoped>\n",
       "    .dataframe tbody tr th:only-of-type {\n",
       "        vertical-align: middle;\n",
       "    }\n",
       "\n",
       "    .dataframe tbody tr th {\n",
       "        vertical-align: top;\n",
       "    }\n",
       "\n",
       "    .dataframe thead th {\n",
       "        text-align: right;\n",
       "    }\n",
       "</style>\n",
       "<table border=\"1\" class=\"dataframe\">\n",
       "  <thead>\n",
       "    <tr style=\"text-align: right;\">\n",
       "      <th></th>\n",
       "      <th>customer</th>\n",
       "      <th>recency</th>\n",
       "    </tr>\n",
       "  </thead>\n",
       "  <tbody>\n",
       "    <tr>\n",
       "      <th>0</th>\n",
       "      <td>0</td>\n",
       "      <td>239</td>\n",
       "    </tr>\n",
       "    <tr>\n",
       "      <th>1</th>\n",
       "      <td>1</td>\n",
       "      <td>106</td>\n",
       "    </tr>\n",
       "    <tr>\n",
       "      <th>2</th>\n",
       "      <td>2</td>\n",
       "      <td>261</td>\n",
       "    </tr>\n",
       "    <tr>\n",
       "      <th>3</th>\n",
       "      <td>3</td>\n",
       "      <td>280</td>\n",
       "    </tr>\n",
       "    <tr>\n",
       "      <th>4</th>\n",
       "      <td>4</td>\n",
       "      <td>306</td>\n",
       "    </tr>\n",
       "  </tbody>\n",
       "</table>\n",
       "</div>"
      ],
      "text/plain": [
       "   customer  recency\n",
       "0         0      239\n",
       "1         1      106\n",
       "2         2      261\n",
       "3         3      280\n",
       "4         4      306"
      ]
     },
     "execution_count": 32,
     "metadata": {},
     "output_type": "execute_result"
    }
   ],
   "source": [
    "recency['recency']= (recency['last_purchase']-recency['first_purchase']).dt.days\n",
    "recency= recency[['customer','recency']]\n",
    "recency.head()\n"
   ]
  },
  {
   "cell_type": "markdown",
   "metadata": {},
   "source": [
    "The last variable we need is monetary value, that is the average order value per customer."
   ]
  },
  {
   "cell_type": "code",
   "execution_count": 33,
   "metadata": {},
   "outputs": [
    {
     "data": {
      "text/html": [
       "<div>\n",
       "<style scoped>\n",
       "    .dataframe tbody tr th:only-of-type {\n",
       "        vertical-align: middle;\n",
       "    }\n",
       "\n",
       "    .dataframe tbody tr th {\n",
       "        vertical-align: top;\n",
       "    }\n",
       "\n",
       "    .dataframe thead th {\n",
       "        text-align: right;\n",
       "    }\n",
       "</style>\n",
       "<table border=\"1\" class=\"dataframe\">\n",
       "  <thead>\n",
       "    <tr style=\"text-align: right;\">\n",
       "      <th></th>\n",
       "      <th>customer</th>\n",
       "      <th>monetary_value</th>\n",
       "    </tr>\n",
       "  </thead>\n",
       "  <tbody>\n",
       "    <tr>\n",
       "      <th>0</th>\n",
       "      <td>0</td>\n",
       "      <td>11.402500</td>\n",
       "    </tr>\n",
       "    <tr>\n",
       "      <th>1</th>\n",
       "      <td>1</td>\n",
       "      <td>15.440000</td>\n",
       "    </tr>\n",
       "    <tr>\n",
       "      <th>2</th>\n",
       "      <td>2</td>\n",
       "      <td>15.188571</td>\n",
       "    </tr>\n",
       "    <tr>\n",
       "      <th>3</th>\n",
       "      <td>3</td>\n",
       "      <td>36.520000</td>\n",
       "    </tr>\n",
       "    <tr>\n",
       "      <th>4</th>\n",
       "      <td>4</td>\n",
       "      <td>6.137143</td>\n",
       "    </tr>\n",
       "  </tbody>\n",
       "</table>\n",
       "</div>"
      ],
      "text/plain": [
       "   customer  monetary_value\n",
       "0         0       11.402500\n",
       "1         1       15.440000\n",
       "2         2       15.188571\n",
       "3         3       36.520000\n",
       "4         4        6.137143"
      ]
     },
     "execution_count": 33,
     "metadata": {},
     "output_type": "execute_result"
    }
   ],
   "source": [
    "monetary=pd.DataFrame(my_data.groupby(['customer'])['net_amount'].mean()).reset_index()\n",
    "monetary.columns =['customer', 'monetary_value'] \n",
    "monetary[monetary['monetary_value']>0]\n",
    "monetary.head()"
   ]
  },
  {
   "cell_type": "markdown",
   "metadata": {},
   "source": [
    "Now, we put gather all the variables together."
   ]
  },
  {
   "cell_type": "code",
   "execution_count": 34,
   "metadata": {},
   "outputs": [
    {
     "data": {
      "text/html": [
       "<div>\n",
       "<style scoped>\n",
       "    .dataframe tbody tr th:only-of-type {\n",
       "        vertical-align: middle;\n",
       "    }\n",
       "\n",
       "    .dataframe tbody tr th {\n",
       "        vertical-align: top;\n",
       "    }\n",
       "\n",
       "    .dataframe thead th {\n",
       "        text-align: right;\n",
       "    }\n",
       "</style>\n",
       "<table border=\"1\" class=\"dataframe\">\n",
       "  <thead>\n",
       "    <tr style=\"text-align: right;\">\n",
       "      <th></th>\n",
       "      <th>customer</th>\n",
       "      <th>T</th>\n",
       "      <th>frequency</th>\n",
       "      <th>recency</th>\n",
       "      <th>monetary_value</th>\n",
       "    </tr>\n",
       "  </thead>\n",
       "  <tbody>\n",
       "    <tr>\n",
       "      <th>0</th>\n",
       "      <td>0</td>\n",
       "      <td>349</td>\n",
       "      <td>3</td>\n",
       "      <td>239</td>\n",
       "      <td>11.402500</td>\n",
       "    </tr>\n",
       "    <tr>\n",
       "      <th>1</th>\n",
       "      <td>1</td>\n",
       "      <td>125</td>\n",
       "      <td>1</td>\n",
       "      <td>106</td>\n",
       "      <td>15.440000</td>\n",
       "    </tr>\n",
       "    <tr>\n",
       "      <th>2</th>\n",
       "      <td>2</td>\n",
       "      <td>328</td>\n",
       "      <td>6</td>\n",
       "      <td>261</td>\n",
       "      <td>15.188571</td>\n",
       "    </tr>\n",
       "    <tr>\n",
       "      <th>3</th>\n",
       "      <td>3</td>\n",
       "      <td>363</td>\n",
       "      <td>2</td>\n",
       "      <td>280</td>\n",
       "      <td>36.520000</td>\n",
       "    </tr>\n",
       "    <tr>\n",
       "      <th>4</th>\n",
       "      <td>4</td>\n",
       "      <td>327</td>\n",
       "      <td>6</td>\n",
       "      <td>306</td>\n",
       "      <td>6.137143</td>\n",
       "    </tr>\n",
       "  </tbody>\n",
       "</table>\n",
       "</div>"
      ],
      "text/plain": [
       "   customer    T  frequency  recency  monetary_value\n",
       "0         0  349          3      239       11.402500\n",
       "1         1  125          1      106       15.440000\n",
       "2         2  328          6      261       15.188571\n",
       "3         3  363          2      280       36.520000\n",
       "4         4  327          6      306        6.137143"
      ]
     },
     "execution_count": 34,
     "metadata": {},
     "output_type": "execute_result"
    }
   ],
   "source": [
    "ltv=T.merge(frequency, how='left', on= 'customer').merge(recency, how='left', on= 'customer').merge(monetary, how='inner',  on= 'customer')\n",
    "ltv=ltv.fillna(0)\n",
    "ltv.head()"
   ]
  },
  {
   "cell_type": "markdown",
   "metadata": {},
   "source": [
    "For estimating LTV we use two models. <br>\n",
    "\n",
    "The Gamma Gamma Model is responsible for modelling the expected transaction value for each customer based on the monetary value and frequency. <br>\n",
    "\n",
    "The other model is the BG/NBD model. This is one is responsible for modelling the expected number of transactions\n",
    "per customer in given period times, for example, the next 12 months.  <br>\n",
    "\n",
    "With the expected transactions value and expected number of transaction for each customer, we can use them for estimating our LTV per customer.\n",
    "\n",
    "\n",
    "\n"
   ]
  },
  {
   "cell_type": "markdown",
   "metadata": {},
   "source": [
    "## The Gamma Gamma Model\n",
    "\n",
    "Gamma Gamma Model has an assumption that frequency and monetary value are not correlated. We use Pearson for checking said assumption."
   ]
  },
  {
   "cell_type": "code",
   "execution_count": 35,
   "metadata": {},
   "outputs": [
    {
     "data": {
      "text/html": [
       "<div>\n",
       "<style scoped>\n",
       "    .dataframe tbody tr th:only-of-type {\n",
       "        vertical-align: middle;\n",
       "    }\n",
       "\n",
       "    .dataframe tbody tr th {\n",
       "        vertical-align: top;\n",
       "    }\n",
       "\n",
       "    .dataframe thead th {\n",
       "        text-align: right;\n",
       "    }\n",
       "</style>\n",
       "<table border=\"1\" class=\"dataframe\">\n",
       "  <thead>\n",
       "    <tr style=\"text-align: right;\">\n",
       "      <th></th>\n",
       "      <th>monetary_value</th>\n",
       "      <th>frequency</th>\n",
       "    </tr>\n",
       "  </thead>\n",
       "  <tbody>\n",
       "    <tr>\n",
       "      <th>monetary_value</th>\n",
       "      <td>1.000000</td>\n",
       "      <td>-0.008844</td>\n",
       "    </tr>\n",
       "    <tr>\n",
       "      <th>frequency</th>\n",
       "      <td>-0.008844</td>\n",
       "      <td>1.000000</td>\n",
       "    </tr>\n",
       "  </tbody>\n",
       "</table>\n",
       "</div>"
      ],
      "text/plain": [
       "                monetary_value  frequency\n",
       "monetary_value        1.000000  -0.008844\n",
       "frequency            -0.008844   1.000000"
      ]
     },
     "execution_count": 35,
     "metadata": {},
     "output_type": "execute_result"
    }
   ],
   "source": [
    "ltv[['monetary_value', 'frequency']].corr()\n"
   ]
  },
  {
   "cell_type": "markdown",
   "metadata": {},
   "source": [
    "Once we checked that monetary value and frequency are not correlated, we fit the model. <br>\n",
    "\n",
    "You should consider that model might not fit because you may have a lot a customer who have only bought once. <br>\n",
    "\n",
    "For this you have two solutions, you filter such customers or you play around with the \"penalizer_coef\" for fitting the model. The latter might not work every set of data. "
   ]
  },
  {
   "cell_type": "code",
   "execution_count": 36,
   "metadata": {},
   "outputs": [
    {
     "name": "stdout",
     "output_type": "stream",
     "text": [
      "<lifetimes.GammaGammaFitter: fitted with 7963 subjects, p: 3.93, q: 1.08, v: 3.74>\n"
     ]
    }
   ],
   "source": [
    "ggf = GammaGammaFitter(penalizer_coef = 0.01)\n",
    "ggf.fit(ltv['frequency'],\n",
    "        ltv['monetary_value'])\n",
    "print(ggf)"
   ]
  },
  {
   "cell_type": "markdown",
   "metadata": {},
   "source": [
    "## The BG/NBD model"
   ]
  },
  {
   "cell_type": "markdown",
   "metadata": {},
   "source": [
    "You might have similar issues with the BG/NBD model, you might need to play with the penalizer_coef as well if it is required."
   ]
  },
  {
   "cell_type": "code",
   "execution_count": 37,
   "metadata": {},
   "outputs": [
    {
     "data": {
      "text/plain": [
       "<lifetimes.BetaGeoFitter: fitted with 7963 subjects, a: 0.00, alpha: 120.14, b: 0.00, r: 1.18>"
      ]
     },
     "execution_count": 37,
     "metadata": {},
     "output_type": "execute_result"
    }
   ],
   "source": [
    "bgf = BetaGeoFitter(penalizer_coef=0.1)\n",
    "bgf.fit(ltv['frequency'], ltv['recency'], ltv['T'])"
   ]
  },
  {
   "cell_type": "markdown",
   "metadata": {},
   "source": [
    "## Using the two models for getting our LTV value for each customer"
   ]
  },
  {
   "cell_type": "markdown",
   "metadata": {},
   "source": [
    "Now, we estimate the LTV for each repeating customer who has positive monetary value, and also, we are including a discount rate. This discount rate considers the value of money from a time perspective.<br>\n",
    "\n",
    "For example, having USD 100 today is worthier than having USD 100 in one year from now."
   ]
  },
  {
   "cell_type": "code",
   "execution_count": 38,
   "metadata": {},
   "outputs": [],
   "source": [
    "expected_ltv= round(ggf.customer_lifetime_value(\n",
    "    bgf, #the model to use to predict the number of future transactions\n",
    "    ltv['frequency'],\n",
    "    ltv['recency'],\n",
    "    ltv['T'],\n",
    "    ltv['monetary_value'],\n",
    "    time=12, # months\n",
    "    discount_rate=0.01, # monthly discount rate ~ 12.7% annually\n",
    "    freq='D'\n",
    "\n",
    "), 2) "
   ]
  },
  {
   "cell_type": "markdown",
   "metadata": {},
   "source": [
    "We can see that customer 0 is worth USD 37.77 and the customer 1 is worthier than customer 0 because her value is USD 56.34"
   ]
  },
  {
   "cell_type": "code",
   "execution_count": 39,
   "metadata": {},
   "outputs": [
    {
     "data": {
      "text/html": [
       "<div>\n",
       "<style scoped>\n",
       "    .dataframe tbody tr th:only-of-type {\n",
       "        vertical-align: middle;\n",
       "    }\n",
       "\n",
       "    .dataframe tbody tr th {\n",
       "        vertical-align: top;\n",
       "    }\n",
       "\n",
       "    .dataframe thead th {\n",
       "        text-align: right;\n",
       "    }\n",
       "</style>\n",
       "<table border=\"1\" class=\"dataframe\">\n",
       "  <thead>\n",
       "    <tr style=\"text-align: right;\">\n",
       "      <th></th>\n",
       "      <th>customer</th>\n",
       "      <th>LTV</th>\n",
       "    </tr>\n",
       "  </thead>\n",
       "  <tbody>\n",
       "    <tr>\n",
       "      <th>0</th>\n",
       "      <td>0</td>\n",
       "      <td>37.77</td>\n",
       "    </tr>\n",
       "    <tr>\n",
       "      <th>1</th>\n",
       "      <td>1</td>\n",
       "      <td>56.34</td>\n",
       "    </tr>\n",
       "    <tr>\n",
       "      <th>2</th>\n",
       "      <td>2</td>\n",
       "      <td>85.21</td>\n",
       "    </tr>\n",
       "    <tr>\n",
       "      <th>3</th>\n",
       "      <td>3</td>\n",
       "      <td>84.37</td>\n",
       "    </tr>\n",
       "    <tr>\n",
       "      <th>4</th>\n",
       "      <td>4</td>\n",
       "      <td>36.51</td>\n",
       "    </tr>\n",
       "  </tbody>\n",
       "</table>\n",
       "</div>"
      ],
      "text/plain": [
       "   customer    LTV\n",
       "0         0  37.77\n",
       "1         1  56.34\n",
       "2         2  85.21\n",
       "3         3  84.37\n",
       "4         4  36.51"
      ]
     },
     "execution_count": 39,
     "metadata": {},
     "output_type": "execute_result"
    }
   ],
   "source": [
    "expected_ltv=pd.DataFrame(expected_ltv).reset_index()\n",
    "expected_ltv.columns = ['customer', 'LTV']\n",
    "expected_ltv.head()\n"
   ]
  },
  {
   "cell_type": "markdown",
   "metadata": {},
   "source": [
    "We can estimate the average life timevalue for our customers. "
   ]
  },
  {
   "cell_type": "code",
   "execution_count": 40,
   "metadata": {},
   "outputs": [
    {
     "name": "stdout",
     "output_type": "stream",
     "text": [
      "The average LTV for your customers is USD 86.91 and you should spend less than that for being profitable.\n"
     ]
    }
   ],
   "source": [
    "mean_ltv= np.mean(expected_ltv['LTV'])\n",
    "\n",
    "print('The average LTV for your customers is USD '+ str(round(mean_ltv, 2))+' and you should spend less than that for being profitable.')"
   ]
  },
  {
   "cell_type": "markdown",
   "metadata": {},
   "source": [
    "References: <br>\n",
    "https://lifetimes.readthedocs.io/en/latest/index.html<br>\n",
    "https://towardsdatascience.com/a-step-by-step-introduction-to-cohort-analysis-in-python-a2cbbd8460ea<br>\n"
   ]
  }
 ],
 "metadata": {
  "kernelspec": {
   "display_name": "Python 3",
   "language": "python",
   "name": "python3"
  },
  "language_info": {
   "codemirror_mode": {
    "name": "ipython",
    "version": 3
   },
   "file_extension": ".py",
   "mimetype": "text/x-python",
   "name": "python",
   "nbconvert_exporter": "python",
   "pygments_lexer": "ipython3",
   "version": "3.8.2"
  }
 },
 "nbformat": 4,
 "nbformat_minor": 4
}
